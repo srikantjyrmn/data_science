{
 "cells": [
  {
   "cell_type": "code",
   "execution_count": 9,
   "metadata": {},
   "outputs": [
    {
     "name": "stdout",
     "output_type": "stream",
     "text": [
      "The autoreload extension is already loaded. To reload it, use:\n",
      "  %reload_ext autoreload\n"
     ]
    }
   ],
   "source": [
    "%load_ext autoreload\n",
    "%autoreload 2"
   ]
  },
  {
   "cell_type": "code",
   "execution_count": 100,
   "metadata": {},
   "outputs": [],
   "source": [
    "import modeling_helper_class as mh\n",
    "import modeling_helpers as mh2\n",
    "import pandas as pd \n",
    "import data_preprocessing_helpers as dp\n",
    "\n",
    "from sklearn.ensemble import RandomForestRegressor as rf"
   ]
  },
  {
   "cell_type": "code",
   "execution_count": 101,
   "metadata": {},
   "outputs": [
    {
     "name": "stdout",
     "output_type": "stream",
     "text": [
      "Loading ./../data/house_prices/train.csv\n",
      "Data has (1460, 80) shape\n",
      "Feature Engineering\n",
      "Making New Features\n",
      "Setting Column Type\n",
      "Making new features using Training Set\n"
     ]
    }
   ],
   "source": [
    "df = dp.get_preprocessed_data()\n",
    "\n",
    "df['LivLotRatio'] = df['GrLivArea']/df['LotArea']\n",
    "df['Spaciousness'] = (df['1stFlrSF'] + df['2ndFlrSF'])/df['TotRmsAbvGrd']\n",
    "df['TotalOutsideSF'] = df['WoodDeckSF'] + df['OpenPorchSF'] + df['EnclosedPorch'] + df['3SsnPorch'] + df['ScreenPorch']\n",
    "df['TotalArea'] = df.TotalBsmtSF+ df.TotalOutsideSF + df['1stFlrSF'] + df['2ndFlrSF']\n",
    "df[['OverallQual', 'OverallCond', 'NeighborhoodScore', 'ExterScore']] = df[['OverallQual', 'OverallCond', 'NeighborhoodScore', 'ExterScore']] .astype('category')\n",
    "\n",
    "porches = ['WoodDeckSF', 'OpenPorchSF', 'EnclosedPorch', '3SsnPorch', 'ScreenPorch']\n",
    "df['Porches'] = df[porches].gt(0).sum(axis = 1)\n",
    "\n",
    "a = pd.get_dummies(df['BldgType'])\n",
    "b = a.mul(df['GrLivArea'], axis =0)\n",
    "df = df.join(b)\n",
    "\n",
    "\n",
    "df = df.drop(['QualScore', 'QualScore2', 'BsmtFinSF1', 'BsmtFinSF2'], axis = 1)\n"
   ]
  },
  {
   "cell_type": "code",
   "execution_count": 102,
   "metadata": {},
   "outputs": [
    {
     "name": "stdout",
     "output_type": "stream",
     "text": [
      "50\n",
      "54\n",
      "input data has 1460 rows\n",
      "Welcome to model object\n"
     ]
    }
   ],
   "source": [
    "import category_encoders as ce\n",
    "cat_cols = [x for x in df.columns if df.dtypes[x] in ['category', 'object']]\n",
    "print(len(cat_cols))\n",
    "cat_cols = cat_cols + ['OverallQual', 'OverallCond', 'NeighborhoodScore', 'ExterScore']\n",
    "print(len(cat_cols))\n",
    "\n",
    "x, y = dp.split_data(df, 'SalePrice')\n",
    "encoder = ce.LeaveOneOutEncoder(cols = cat_cols)\n",
    "encoder.fit(x,y)\n",
    "x2 = encoder.transform(x)\n",
    "\n",
    "mo = mh.model_object(model=rf(), df = pd.concat([x2, y], axis = 1), \n",
    "                     target = 'SalePrice', scorer = mh2.scorer)\n"
   ]
  },
  {
   "cell_type": "code",
   "execution_count": 103,
   "metadata": {},
   "outputs": [
    {
     "name": "stdout",
     "output_type": "stream",
     "text": [
      "Validating Model RandomForestRegressor() with 100 features\n",
      "Baseline Score: -0.140506936746074, 0.01277635234957068\n",
      "Tuning\n",
      "Tuning RandomForestRegressor(), with  100 features\n",
      "Tuned Baseline Score: -0.13941323696203442, 0.012713452171107805\n",
      "FeatSelecting\n",
      "Performing RFE CV\n",
      "Validating Model RandomForestRegressor() with 70 features\n",
      "FS - BL Score : -0.14053704803965306, 0.013367246503308226\n",
      "Tuning\n",
      "Tuning RandomForestRegressor(), with  70 features\n",
      "FS - BL - Tuned Score: -0.1393676566506268, 0.012821938962231058\n",
      "Validating Model RandomForestRegressor(max_depth=74, max_features=538, n_estimators=817) with 70 features\n",
      "Scoring Again: -0.13946958485056307, 0.012666513400147036\n",
      "Selecting Features for Tuned Model\n",
      "Performing RFE CV\n",
      "Validating Model RandomForestRegressor(max_depth=45, max_features=135, n_estimators=626) with 88 features\n",
      "FS - Tuned - Tuned Score : -0.13921279894588698, 0.012536338407059073\n",
      "Tuning\n",
      "Tuning RandomForestRegressor(max_depth=45, max_features=135, n_estimators=626), with  88 features\n",
      "Tuned Score: -0.13986115883422903, 0.012807820225078674\n",
      "Validating Model RandomForestRegressor(max_depth=20, max_features=445, n_estimators=438) with 88 features\n",
      "Scoring Again: -0.13889209743072684, 0.011999943071000918\n"
     ]
    }
   ],
   "source": [
    "mo.get_best_model()"
   ]
  },
  {
   "cell_type": "code",
   "execution_count": 1,
   "metadata": {},
   "outputs": [],
   "source": [
    "def get_model_importance(model):\n",
    "    importance_df = pd.DataFrame(\n",
    "        model.feature_importances_, \n",
    "        index = model.feature_names_in_, \n",
    "        columns = ['importance_rf']) \\\n",
    "        .sort_values('importance_rf', ascending=False)\n",
    "\n",
    "    return importance_df"
   ]
  },
  {
   "cell_type": "code",
   "execution_count": 2,
   "metadata": {},
   "outputs": [
    {
     "ename": "NameError",
     "evalue": "name 'mo' is not defined",
     "output_type": "error",
     "traceback": [
      "\u001b[0;31m---------------------------------------------------------------------------\u001b[0m",
      "\u001b[0;31mNameError\u001b[0m                                 Traceback (most recent call last)",
      "\u001b[1;32m/Users/sourcecode/Documents/science/Reorganism/ml_black_belt/my_work/house_prices/modeling_helper_class_1.ipynb Cell 7\u001b[0m in \u001b[0;36m<cell line: 1>\u001b[0;34m()\u001b[0m\n\u001b[0;32m----> <a href='vscode-notebook-cell:/Users/sourcecode/Documents/science/Reorganism/ml_black_belt/my_work/house_prices/modeling_helper_class_1.ipynb#X10sZmlsZQ%3D%3D?line=0'>1</a>\u001b[0m a \u001b[39m=\u001b[39m get_model_importance(mo\u001b[39m.\u001b[39mmodel_bl)\n\u001b[1;32m      <a href='vscode-notebook-cell:/Users/sourcecode/Documents/science/Reorganism/ml_black_belt/my_work/house_prices/modeling_helper_class_1.ipynb#X10sZmlsZQ%3D%3D?line=1'>2</a>\u001b[0m b \u001b[39m=\u001b[39m get_model_importance(mo\u001b[39m.\u001b[39mmodel_bl_tuned)\n\u001b[1;32m      <a href='vscode-notebook-cell:/Users/sourcecode/Documents/science/Reorganism/ml_black_belt/my_work/house_prices/modeling_helper_class_1.ipynb#X10sZmlsZQ%3D%3D?line=2'>3</a>\u001b[0m c \u001b[39m=\u001b[39m get_model_importance(mo\u001b[39m.\u001b[39mmodel_blfs_tuned)\n",
      "\u001b[0;31mNameError\u001b[0m: name 'mo' is not defined"
     ]
    }
   ],
   "source": [
    "a = get_model_importance(mo.model_bl)\n",
    "b = get_model_importance(mo.model_bl_tuned)\n",
    "c = get_model_importance(mo.model_blfs_tuned)\n",
    "d = get_model_importance(mo.model_tunedfs_tuned)\n",
    "\n",
    "\n",
    "c = a.merge(b, left_index=True, right_index=True, suffixes = ['_bl', '_bl_tuned'])\n",
    "c['average_importance'] = c.sum(axis = 1)/2\n",
    "c.sort_values('average_importance', ascending=False)\n",
    "c.tail(20)\n",
    "#c = pd.concat([a,b], axis=1)\n",
    "#c['average_importance'] = "
   ]
  },
  {
   "cell_type": "code",
   "execution_count": 99,
   "metadata": {},
   "outputs": [
    {
     "ename": "AttributeError",
     "evalue": "'model_object' object has no attribute 'tunedfs_tuning_res'",
     "output_type": "error",
     "traceback": [
      "\u001b[0;31m---------------------------------------------------------------------------\u001b[0m",
      "\u001b[0;31mAttributeError\u001b[0m                            Traceback (most recent call last)",
      "\u001b[1;32m/Users/sourcecode/Documents/science/Reorganism/ml_black_belt/my_work/house_prices/modeling_helper_class.ipynb Cell 8\u001b[0m in \u001b[0;36m<cell line: 1>\u001b[0;34m()\u001b[0m\n\u001b[0;32m----> <a href='vscode-notebook-cell:/Users/sourcecode/Documents/science/Reorganism/ml_black_belt/my_work/house_prices/modeling_helper_class.ipynb#X44sZmlsZQ%3D%3D?line=0'>1</a>\u001b[0m mo\u001b[39m.\u001b[39;49mtunedfs_tuning_res\n",
      "\u001b[0;31mAttributeError\u001b[0m: 'model_object' object has no attribute 'tunedfs_tuning_res'"
     ]
    }
   ],
   "source": [
    "mo.tunedfs_tuning_res"
   ]
  },
  {
   "cell_type": "code",
   "execution_count": 67,
   "metadata": {},
   "outputs": [
    {
     "data": {
      "text/plain": [
       "Id\n",
       "1       1710\n",
       "2       1262\n",
       "3       1786\n",
       "4       1717\n",
       "5       2198\n",
       "        ... \n",
       "1456    1647\n",
       "1457    2073\n",
       "1458    2340\n",
       "1459    1078\n",
       "1460    1256\n",
       "Name: GrLivArea, Length: 1460, dtype: int64"
      ]
     },
     "execution_count": 67,
     "metadata": {},
     "output_type": "execute_result"
    }
   ],
   "source": [
    "df['GrLivArea']"
   ]
  },
  {
   "cell_type": "code",
   "execution_count": null,
   "metadata": {},
   "outputs": [],
   "source": []
  }
 ],
 "metadata": {
  "kernelspec": {
   "display_name": "Python 3",
   "language": "python",
   "name": "python3"
  },
  "language_info": {
   "codemirror_mode": {
    "name": "ipython",
    "version": 3
   },
   "file_extension": ".py",
   "mimetype": "text/x-python",
   "name": "python",
   "nbconvert_exporter": "python",
   "pygments_lexer": "ipython3",
   "version": "3.10.4"
  },
  "orig_nbformat": 4,
  "vscode": {
   "interpreter": {
    "hash": "aee8b7b246df8f9039afb4144a1f6fd8d2ca17a180786b69acc140d282b71a49"
   }
  }
 },
 "nbformat": 4,
 "nbformat_minor": 2
}
