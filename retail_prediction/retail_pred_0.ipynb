{
 "cells": [
  {
   "cell_type": "code",
   "execution_count": 77,
   "metadata": {},
   "outputs": [],
   "source": [
    "import pandas as pd\n",
    "train_file = './../data/train_bm.csv'\n",
    "df = pd.read_csv(train_file)"
   ]
  },
  {
   "cell_type": "code",
   "execution_count": 5,
   "metadata": {},
   "outputs": [
    {
     "data": {
      "text/plain": [
       "FDW13    10\n",
       "FDG33    10\n",
       "NCY18     9\n",
       "FDD38     9\n",
       "DRE49     9\n",
       "         ..\n",
       "FDY43     1\n",
       "FDQ60     1\n",
       "FDO33     1\n",
       "DRF48     1\n",
       "FDC23     1\n",
       "Name: Item_Identifier, Length: 1559, dtype: int64"
      ]
     },
     "execution_count": 5,
     "metadata": {},
     "output_type": "execute_result"
    }
   ],
   "source": [
    "df.Item_Identifier.value_counts()"
   ]
  },
  {
   "cell_type": "code",
   "execution_count": 11,
   "metadata": {},
   "outputs": [
    {
     "data": {
      "text/html": [
       "<div>\n",
       "<style scoped>\n",
       "    .dataframe tbody tr th:only-of-type {\n",
       "        vertical-align: middle;\n",
       "    }\n",
       "\n",
       "    .dataframe tbody tr th {\n",
       "        vertical-align: top;\n",
       "    }\n",
       "\n",
       "    .dataframe thead th {\n",
       "        text-align: right;\n",
       "    }\n",
       "</style>\n",
       "<table border=\"1\" class=\"dataframe\">\n",
       "  <thead>\n",
       "    <tr style=\"text-align: right;\">\n",
       "      <th></th>\n",
       "      <th>Item_Identifier</th>\n",
       "      <th>Item_Weight</th>\n",
       "      <th>Item_Fat_Content</th>\n",
       "      <th>Item_Visibility</th>\n",
       "      <th>Item_Type</th>\n",
       "      <th>Item_MRP</th>\n",
       "      <th>Outlet_Identifier</th>\n",
       "      <th>Outlet_Establishment_Year</th>\n",
       "      <th>Outlet_Size</th>\n",
       "      <th>Outlet_Location_Type</th>\n",
       "      <th>Outlet_Type</th>\n",
       "      <th>Item_Outlet_Sales</th>\n",
       "      <th>n</th>\n",
       "    </tr>\n",
       "  </thead>\n",
       "  <tbody>\n",
       "    <tr>\n",
       "      <th>256</th>\n",
       "      <td>FDW13</td>\n",
       "      <td>8.5</td>\n",
       "      <td>Low Fat</td>\n",
       "      <td>0.098438</td>\n",
       "      <td>Canned</td>\n",
       "      <td>51.1324</td>\n",
       "      <td>OUT017</td>\n",
       "      <td>2007</td>\n",
       "      <td>NaN</td>\n",
       "      <td>Tier 2</td>\n",
       "      <td>Supermarket Type1</td>\n",
       "      <td>259.6620</td>\n",
       "      <td>5.078228</td>\n",
       "    </tr>\n",
       "    <tr>\n",
       "      <th>1141</th>\n",
       "      <td>FDW13</td>\n",
       "      <td>8.5</td>\n",
       "      <td>Low Fat</td>\n",
       "      <td>0.097866</td>\n",
       "      <td>Canned</td>\n",
       "      <td>51.1324</td>\n",
       "      <td>OUT035</td>\n",
       "      <td>2004</td>\n",
       "      <td>Small</td>\n",
       "      <td>Tier 2</td>\n",
       "      <td>Supermarket Type1</td>\n",
       "      <td>1350.2424</td>\n",
       "      <td>26.406787</td>\n",
       "    </tr>\n",
       "    <tr>\n",
       "      <th>2190</th>\n",
       "      <td>FDW13</td>\n",
       "      <td>8.5</td>\n",
       "      <td>Low Fat</td>\n",
       "      <td>0.098283</td>\n",
       "      <td>Canned</td>\n",
       "      <td>51.3324</td>\n",
       "      <td>OUT018</td>\n",
       "      <td>2009</td>\n",
       "      <td>Medium</td>\n",
       "      <td>Tier 3</td>\n",
       "      <td>Supermarket Type2</td>\n",
       "      <td>934.7832</td>\n",
       "      <td>18.210393</td>\n",
       "    </tr>\n",
       "    <tr>\n",
       "      <th>3928</th>\n",
       "      <td>FDW13</td>\n",
       "      <td>NaN</td>\n",
       "      <td>Low Fat</td>\n",
       "      <td>0.097411</td>\n",
       "      <td>Canned</td>\n",
       "      <td>52.7324</td>\n",
       "      <td>OUT027</td>\n",
       "      <td>1985</td>\n",
       "      <td>Medium</td>\n",
       "      <td>Tier 3</td>\n",
       "      <td>Supermarket Type3</td>\n",
       "      <td>2492.7552</td>\n",
       "      <td>47.271795</td>\n",
       "    </tr>\n",
       "    <tr>\n",
       "      <th>3978</th>\n",
       "      <td>FDW13</td>\n",
       "      <td>8.5</td>\n",
       "      <td>Low Fat</td>\n",
       "      <td>0.098037</td>\n",
       "      <td>Canned</td>\n",
       "      <td>51.5324</td>\n",
       "      <td>OUT049</td>\n",
       "      <td>1999</td>\n",
       "      <td>Medium</td>\n",
       "      <td>Tier 1</td>\n",
       "      <td>Supermarket Type1</td>\n",
       "      <td>882.8508</td>\n",
       "      <td>17.131956</td>\n",
       "    </tr>\n",
       "    <tr>\n",
       "      <th>6499</th>\n",
       "      <td>FDW13</td>\n",
       "      <td>8.5</td>\n",
       "      <td>Low Fat</td>\n",
       "      <td>0.098083</td>\n",
       "      <td>Canned</td>\n",
       "      <td>50.3324</td>\n",
       "      <td>OUT045</td>\n",
       "      <td>2002</td>\n",
       "      <td>NaN</td>\n",
       "      <td>Tier 2</td>\n",
       "      <td>Supermarket Type1</td>\n",
       "      <td>675.1212</td>\n",
       "      <td>13.413253</td>\n",
       "    </tr>\n",
       "    <tr>\n",
       "      <th>6587</th>\n",
       "      <td>FDW13</td>\n",
       "      <td>8.5</td>\n",
       "      <td>low fat</td>\n",
       "      <td>0.163839</td>\n",
       "      <td>Canned</td>\n",
       "      <td>51.3324</td>\n",
       "      <td>OUT010</td>\n",
       "      <td>1998</td>\n",
       "      <td>NaN</td>\n",
       "      <td>Tier 3</td>\n",
       "      <td>Grocery Store</td>\n",
       "      <td>311.5944</td>\n",
       "      <td>6.070131</td>\n",
       "    </tr>\n",
       "    <tr>\n",
       "      <th>7029</th>\n",
       "      <td>FDW13</td>\n",
       "      <td>8.5</td>\n",
       "      <td>Low Fat</td>\n",
       "      <td>0.097803</td>\n",
       "      <td>Canned</td>\n",
       "      <td>50.5324</td>\n",
       "      <td>OUT013</td>\n",
       "      <td>1987</td>\n",
       "      <td>High</td>\n",
       "      <td>Tier 3</td>\n",
       "      <td>Supermarket Type1</td>\n",
       "      <td>882.8508</td>\n",
       "      <td>17.470985</td>\n",
       "    </tr>\n",
       "    <tr>\n",
       "      <th>8025</th>\n",
       "      <td>FDW13</td>\n",
       "      <td>NaN</td>\n",
       "      <td>Low Fat</td>\n",
       "      <td>0.171384</td>\n",
       "      <td>Canned</td>\n",
       "      <td>50.5324</td>\n",
       "      <td>OUT019</td>\n",
       "      <td>1985</td>\n",
       "      <td>Small</td>\n",
       "      <td>Tier 1</td>\n",
       "      <td>Grocery Store</td>\n",
       "      <td>207.7296</td>\n",
       "      <td>4.110820</td>\n",
       "    </tr>\n",
       "    <tr>\n",
       "      <th>8032</th>\n",
       "      <td>FDW13</td>\n",
       "      <td>8.5</td>\n",
       "      <td>Low Fat</td>\n",
       "      <td>0.097885</td>\n",
       "      <td>Canned</td>\n",
       "      <td>52.5324</td>\n",
       "      <td>OUT046</td>\n",
       "      <td>1997</td>\n",
       "      <td>Small</td>\n",
       "      <td>Tier 1</td>\n",
       "      <td>Supermarket Type1</td>\n",
       "      <td>1194.4452</td>\n",
       "      <td>22.737305</td>\n",
       "    </tr>\n",
       "  </tbody>\n",
       "</table>\n",
       "</div>"
      ],
      "text/plain": [
       "     Item_Identifier  Item_Weight Item_Fat_Content  Item_Visibility Item_Type  \\\n",
       "256            FDW13          8.5          Low Fat         0.098438    Canned   \n",
       "1141           FDW13          8.5          Low Fat         0.097866    Canned   \n",
       "2190           FDW13          8.5          Low Fat         0.098283    Canned   \n",
       "3928           FDW13          NaN          Low Fat         0.097411    Canned   \n",
       "3978           FDW13          8.5          Low Fat         0.098037    Canned   \n",
       "6499           FDW13          8.5          Low Fat         0.098083    Canned   \n",
       "6587           FDW13          8.5          low fat         0.163839    Canned   \n",
       "7029           FDW13          8.5          Low Fat         0.097803    Canned   \n",
       "8025           FDW13          NaN          Low Fat         0.171384    Canned   \n",
       "8032           FDW13          8.5          Low Fat         0.097885    Canned   \n",
       "\n",
       "      Item_MRP Outlet_Identifier  Outlet_Establishment_Year Outlet_Size  \\\n",
       "256    51.1324            OUT017                       2007         NaN   \n",
       "1141   51.1324            OUT035                       2004       Small   \n",
       "2190   51.3324            OUT018                       2009      Medium   \n",
       "3928   52.7324            OUT027                       1985      Medium   \n",
       "3978   51.5324            OUT049                       1999      Medium   \n",
       "6499   50.3324            OUT045                       2002         NaN   \n",
       "6587   51.3324            OUT010                       1998         NaN   \n",
       "7029   50.5324            OUT013                       1987        High   \n",
       "8025   50.5324            OUT019                       1985       Small   \n",
       "8032   52.5324            OUT046                       1997       Small   \n",
       "\n",
       "     Outlet_Location_Type        Outlet_Type  Item_Outlet_Sales          n  \n",
       "256                Tier 2  Supermarket Type1           259.6620   5.078228  \n",
       "1141               Tier 2  Supermarket Type1          1350.2424  26.406787  \n",
       "2190               Tier 3  Supermarket Type2           934.7832  18.210393  \n",
       "3928               Tier 3  Supermarket Type3          2492.7552  47.271795  \n",
       "3978               Tier 1  Supermarket Type1           882.8508  17.131956  \n",
       "6499               Tier 2  Supermarket Type1           675.1212  13.413253  \n",
       "6587               Tier 3      Grocery Store           311.5944   6.070131  \n",
       "7029               Tier 3  Supermarket Type1           882.8508  17.470985  \n",
       "8025               Tier 1      Grocery Store           207.7296   4.110820  \n",
       "8032               Tier 1  Supermarket Type1          1194.4452  22.737305  "
      ]
     },
     "execution_count": 11,
     "metadata": {},
     "output_type": "execute_result"
    }
   ],
   "source": [
    "df['n'] = df.Item_Outlet_Sales/df.Item_MRP\n",
    "df[df.Item_Identifier == 'FDW13']\n"
   ]
  },
  {
   "attachments": {},
   "cell_type": "markdown",
   "metadata": {},
   "source": [
    "# Notes\n",
    "1. Item_Fat_content -> low fat -> correct spelling\n"
   ]
  },
  {
   "cell_type": "code",
   "execution_count": 9,
   "metadata": {},
   "outputs": [
    {
     "data": {
      "text/plain": [
       "Low Fat    5089\n",
       "Regular    2889\n",
       "LF          316\n",
       "reg         117\n",
       "low fat     112\n",
       "Name: Item_Fat_Content, dtype: int64"
      ]
     },
     "execution_count": 9,
     "metadata": {},
     "output_type": "execute_result"
    }
   ],
   "source": [
    "df.Item_Fat_Content.value_counts()"
   ]
  },
  {
   "cell_type": "code",
   "execution_count": 14,
   "metadata": {},
   "outputs": [
    {
     "data": {
      "text/html": [
       "<div>\n",
       "<style scoped>\n",
       "    .dataframe tbody tr th:only-of-type {\n",
       "        vertical-align: middle;\n",
       "    }\n",
       "\n",
       "    .dataframe tbody tr th {\n",
       "        vertical-align: top;\n",
       "    }\n",
       "\n",
       "    .dataframe thead th {\n",
       "        text-align: right;\n",
       "    }\n",
       "</style>\n",
       "<table border=\"1\" class=\"dataframe\">\n",
       "  <thead>\n",
       "    <tr style=\"text-align: right;\">\n",
       "      <th></th>\n",
       "      <th>index</th>\n",
       "      <th>Item_Identifier</th>\n",
       "    </tr>\n",
       "  </thead>\n",
       "  <tbody>\n",
       "    <tr>\n",
       "      <th>0</th>\n",
       "      <td>FDW13</td>\n",
       "      <td>10</td>\n",
       "    </tr>\n",
       "    <tr>\n",
       "      <th>1</th>\n",
       "      <td>FDG33</td>\n",
       "      <td>10</td>\n",
       "    </tr>\n",
       "    <tr>\n",
       "      <th>2</th>\n",
       "      <td>NCY18</td>\n",
       "      <td>9</td>\n",
       "    </tr>\n",
       "    <tr>\n",
       "      <th>3</th>\n",
       "      <td>FDD38</td>\n",
       "      <td>9</td>\n",
       "    </tr>\n",
       "    <tr>\n",
       "      <th>4</th>\n",
       "      <td>DRE49</td>\n",
       "      <td>9</td>\n",
       "    </tr>\n",
       "    <tr>\n",
       "      <th>...</th>\n",
       "      <td>...</td>\n",
       "      <td>...</td>\n",
       "    </tr>\n",
       "    <tr>\n",
       "      <th>1554</th>\n",
       "      <td>FDY43</td>\n",
       "      <td>1</td>\n",
       "    </tr>\n",
       "    <tr>\n",
       "      <th>1555</th>\n",
       "      <td>FDQ60</td>\n",
       "      <td>1</td>\n",
       "    </tr>\n",
       "    <tr>\n",
       "      <th>1556</th>\n",
       "      <td>FDO33</td>\n",
       "      <td>1</td>\n",
       "    </tr>\n",
       "    <tr>\n",
       "      <th>1557</th>\n",
       "      <td>DRF48</td>\n",
       "      <td>1</td>\n",
       "    </tr>\n",
       "    <tr>\n",
       "      <th>1558</th>\n",
       "      <td>FDC23</td>\n",
       "      <td>1</td>\n",
       "    </tr>\n",
       "  </tbody>\n",
       "</table>\n",
       "<p>1559 rows × 2 columns</p>\n",
       "</div>"
      ],
      "text/plain": [
       "      index  Item_Identifier\n",
       "0     FDW13               10\n",
       "1     FDG33               10\n",
       "2     NCY18                9\n",
       "3     FDD38                9\n",
       "4     DRE49                9\n",
       "...     ...              ...\n",
       "1554  FDY43                1\n",
       "1555  FDQ60                1\n",
       "1556  FDO33                1\n",
       "1557  DRF48                1\n",
       "1558  FDC23                1\n",
       "\n",
       "[1559 rows x 2 columns]"
      ]
     },
     "execution_count": 14,
     "metadata": {},
     "output_type": "execute_result"
    }
   ],
   "source": [
    "df.Item_Identifier.value_counts().reset_index()"
   ]
  },
  {
   "cell_type": "code",
   "execution_count": 15,
   "metadata": {},
   "outputs": [
    {
     "data": {
      "text/plain": [
       "Item_Identifier               object\n",
       "Item_Weight                  float64\n",
       "Item_Fat_Content              object\n",
       "Item_Visibility              float64\n",
       "Item_Type                     object\n",
       "Item_MRP                     float64\n",
       "Outlet_Identifier             object\n",
       "Outlet_Establishment_Year      int64\n",
       "Outlet_Size                   object\n",
       "Outlet_Location_Type          object\n",
       "Outlet_Type                   object\n",
       "Item_Outlet_Sales            float64\n",
       "n                            float64\n",
       "dtype: object"
      ]
     },
     "execution_count": 15,
     "metadata": {},
     "output_type": "execute_result"
    }
   ],
   "source": [
    "df.dtypes"
   ]
  },
  {
   "cell_type": "code",
   "execution_count": 17,
   "metadata": {},
   "outputs": [],
   "source": [
    "import category_encoders as ce"
   ]
  },
  {
   "cell_type": "code",
   "execution_count": 78,
   "metadata": {},
   "outputs": [],
   "source": [
    "df_enc = ce.TargetEncoder(verbose = 1)"
   ]
  },
  {
   "cell_type": "code",
   "execution_count": 99,
   "metadata": {},
   "outputs": [
    {
     "ename": "KeyError",
     "evalue": "'Item_Outlet_Sales'",
     "output_type": "error",
     "traceback": [
      "\u001b[0;31m---------------------------------------------------------------------------\u001b[0m",
      "\u001b[0;31mKeyError\u001b[0m                                  Traceback (most recent call last)",
      "File \u001b[0;32m/Library/Frameworks/Python.framework/Versions/3.10/lib/python3.10/site-packages/pandas/core/indexes/base.py:3621\u001b[0m, in \u001b[0;36mIndex.get_loc\u001b[0;34m(self, key, method, tolerance)\u001b[0m\n\u001b[1;32m   3620\u001b[0m \u001b[39mtry\u001b[39;00m:\n\u001b[0;32m-> 3621\u001b[0m     \u001b[39mreturn\u001b[39;00m \u001b[39mself\u001b[39;49m\u001b[39m.\u001b[39;49m_engine\u001b[39m.\u001b[39;49mget_loc(casted_key)\n\u001b[1;32m   3622\u001b[0m \u001b[39mexcept\u001b[39;00m \u001b[39mKeyError\u001b[39;00m \u001b[39mas\u001b[39;00m err:\n",
      "File \u001b[0;32mpandas/_libs/index.pyx:136\u001b[0m, in \u001b[0;36mpandas._libs.index.IndexEngine.get_loc\u001b[0;34m()\u001b[0m\n",
      "File \u001b[0;32mpandas/_libs/index.pyx:163\u001b[0m, in \u001b[0;36mpandas._libs.index.IndexEngine.get_loc\u001b[0;34m()\u001b[0m\n",
      "File \u001b[0;32mpandas/_libs/hashtable_class_helper.pxi:5198\u001b[0m, in \u001b[0;36mpandas._libs.hashtable.PyObjectHashTable.get_item\u001b[0;34m()\u001b[0m\n",
      "File \u001b[0;32mpandas/_libs/hashtable_class_helper.pxi:5206\u001b[0m, in \u001b[0;36mpandas._libs.hashtable.PyObjectHashTable.get_item\u001b[0;34m()\u001b[0m\n",
      "\u001b[0;31mKeyError\u001b[0m: 'Item_Outlet_Sales'",
      "\nThe above exception was the direct cause of the following exception:\n",
      "\u001b[0;31mKeyError\u001b[0m                                  Traceback (most recent call last)",
      "\u001b[1;32m/Users/sourcecode/Documents/science/Reorganism/ml_black_belt/my_work/retail_prediction/retail_pred_0.ipynb Cell 10\u001b[0m in \u001b[0;36m<cell line: 1>\u001b[0;34m()\u001b[0m\n\u001b[0;32m----> <a href='vscode-notebook-cell:/Users/sourcecode/Documents/science/Reorganism/ml_black_belt/my_work/retail_prediction/retail_pred_0.ipynb#X13sZmlsZQ%3D%3D?line=0'>1</a>\u001b[0m y \u001b[39m=\u001b[39m df\u001b[39m.\u001b[39;49mpop(\u001b[39m'\u001b[39;49m\u001b[39mItem_Outlet_Sales\u001b[39;49m\u001b[39m'\u001b[39;49m)\n\u001b[1;32m      <a href='vscode-notebook-cell:/Users/sourcecode/Documents/science/Reorganism/ml_black_belt/my_work/retail_prediction/retail_pred_0.ipynb#X13sZmlsZQ%3D%3D?line=1'>2</a>\u001b[0m x \u001b[39m=\u001b[39m df\n\u001b[1;32m      <a href='vscode-notebook-cell:/Users/sourcecode/Documents/science/Reorganism/ml_black_belt/my_work/retail_prediction/retail_pred_0.ipynb#X13sZmlsZQ%3D%3D?line=2'>3</a>\u001b[0m a \u001b[39m=\u001b[39m df_enc\u001b[39m.\u001b[39mfit_transform(x,y)\n",
      "File \u001b[0;32m/Library/Frameworks/Python.framework/Versions/3.10/lib/python3.10/site-packages/pandas/core/frame.py:5270\u001b[0m, in \u001b[0;36mDataFrame.pop\u001b[0;34m(self, item)\u001b[0m\n\u001b[1;32m   5229\u001b[0m \u001b[39mdef\u001b[39;00m \u001b[39mpop\u001b[39m(\u001b[39mself\u001b[39m, item: Hashable) \u001b[39m-\u001b[39m\u001b[39m>\u001b[39m Series:\n\u001b[1;32m   5230\u001b[0m     \u001b[39m\"\"\"\u001b[39;00m\n\u001b[1;32m   5231\u001b[0m \u001b[39m    Return item and drop from frame. Raise KeyError if not found.\u001b[39;00m\n\u001b[1;32m   5232\u001b[0m \n\u001b[0;32m   (...)\u001b[0m\n\u001b[1;32m   5268\u001b[0m \u001b[39m    3  monkey        NaN\u001b[39;00m\n\u001b[1;32m   5269\u001b[0m \u001b[39m    \"\"\"\u001b[39;00m\n\u001b[0;32m-> 5270\u001b[0m     \u001b[39mreturn\u001b[39;00m \u001b[39msuper\u001b[39;49m()\u001b[39m.\u001b[39;49mpop(item\u001b[39m=\u001b[39;49mitem)\n",
      "File \u001b[0;32m/Library/Frameworks/Python.framework/Versions/3.10/lib/python3.10/site-packages/pandas/core/generic.py:865\u001b[0m, in \u001b[0;36mNDFrame.pop\u001b[0;34m(self, item)\u001b[0m\n\u001b[1;32m    864\u001b[0m \u001b[39mdef\u001b[39;00m \u001b[39mpop\u001b[39m(\u001b[39mself\u001b[39m, item: Hashable) \u001b[39m-\u001b[39m\u001b[39m>\u001b[39m Series \u001b[39m|\u001b[39m Any:\n\u001b[0;32m--> 865\u001b[0m     result \u001b[39m=\u001b[39m \u001b[39mself\u001b[39;49m[item]\n\u001b[1;32m    866\u001b[0m     \u001b[39mdel\u001b[39;00m \u001b[39mself\u001b[39m[item]\n\u001b[1;32m    868\u001b[0m     \u001b[39mreturn\u001b[39;00m result\n",
      "File \u001b[0;32m/Library/Frameworks/Python.framework/Versions/3.10/lib/python3.10/site-packages/pandas/core/frame.py:3505\u001b[0m, in \u001b[0;36mDataFrame.__getitem__\u001b[0;34m(self, key)\u001b[0m\n\u001b[1;32m   3503\u001b[0m \u001b[39mif\u001b[39;00m \u001b[39mself\u001b[39m\u001b[39m.\u001b[39mcolumns\u001b[39m.\u001b[39mnlevels \u001b[39m>\u001b[39m \u001b[39m1\u001b[39m:\n\u001b[1;32m   3504\u001b[0m     \u001b[39mreturn\u001b[39;00m \u001b[39mself\u001b[39m\u001b[39m.\u001b[39m_getitem_multilevel(key)\n\u001b[0;32m-> 3505\u001b[0m indexer \u001b[39m=\u001b[39m \u001b[39mself\u001b[39;49m\u001b[39m.\u001b[39;49mcolumns\u001b[39m.\u001b[39;49mget_loc(key)\n\u001b[1;32m   3506\u001b[0m \u001b[39mif\u001b[39;00m is_integer(indexer):\n\u001b[1;32m   3507\u001b[0m     indexer \u001b[39m=\u001b[39m [indexer]\n",
      "File \u001b[0;32m/Library/Frameworks/Python.framework/Versions/3.10/lib/python3.10/site-packages/pandas/core/indexes/base.py:3623\u001b[0m, in \u001b[0;36mIndex.get_loc\u001b[0;34m(self, key, method, tolerance)\u001b[0m\n\u001b[1;32m   3621\u001b[0m     \u001b[39mreturn\u001b[39;00m \u001b[39mself\u001b[39m\u001b[39m.\u001b[39m_engine\u001b[39m.\u001b[39mget_loc(casted_key)\n\u001b[1;32m   3622\u001b[0m \u001b[39mexcept\u001b[39;00m \u001b[39mKeyError\u001b[39;00m \u001b[39mas\u001b[39;00m err:\n\u001b[0;32m-> 3623\u001b[0m     \u001b[39mraise\u001b[39;00m \u001b[39mKeyError\u001b[39;00m(key) \u001b[39mfrom\u001b[39;00m \u001b[39merr\u001b[39;00m\n\u001b[1;32m   3624\u001b[0m \u001b[39mexcept\u001b[39;00m \u001b[39mTypeError\u001b[39;00m:\n\u001b[1;32m   3625\u001b[0m     \u001b[39m# If we have a listlike key, _check_indexing_error will raise\u001b[39;00m\n\u001b[1;32m   3626\u001b[0m     \u001b[39m#  InvalidIndexError. Otherwise we fall through and re-raise\u001b[39;00m\n\u001b[1;32m   3627\u001b[0m     \u001b[39m#  the TypeError.\u001b[39;00m\n\u001b[1;32m   3628\u001b[0m     \u001b[39mself\u001b[39m\u001b[39m.\u001b[39m_check_indexing_error(key)\n",
      "\u001b[0;31mKeyError\u001b[0m: 'Item_Outlet_Sales'"
     ]
    }
   ],
   "source": [
    "y = df.pop('Item_Outlet_Sales')\n",
    "x = df\n",
    "a = df_enc.fit_transform(x,y)"
   ]
  },
  {
   "cell_type": "code",
   "execution_count": 102,
   "metadata": {},
   "outputs": [
    {
     "data": {
      "text/html": [
       "<div>\n",
       "<style scoped>\n",
       "    .dataframe tbody tr th:only-of-type {\n",
       "        vertical-align: middle;\n",
       "    }\n",
       "\n",
       "    .dataframe tbody tr th {\n",
       "        vertical-align: top;\n",
       "    }\n",
       "\n",
       "    .dataframe thead th {\n",
       "        text-align: right;\n",
       "    }\n",
       "</style>\n",
       "<table border=\"1\" class=\"dataframe\">\n",
       "  <thead>\n",
       "    <tr style=\"text-align: right;\">\n",
       "      <th></th>\n",
       "      <th>Item_Identifier_ce</th>\n",
       "      <th>Item_Weight_ce</th>\n",
       "      <th>Item_Fat_Content_ce</th>\n",
       "      <th>Item_Visibility_ce</th>\n",
       "      <th>Item_Type_ce</th>\n",
       "      <th>Item_MRP_ce</th>\n",
       "      <th>Outlet_Identifier_ce</th>\n",
       "      <th>Outlet_Establishment_Year_ce</th>\n",
       "      <th>Outlet_Size_ce</th>\n",
       "      <th>Outlet_Location_Type_ce</th>\n",
       "      <th>Outlet_Type_ce</th>\n",
       "    </tr>\n",
       "  </thead>\n",
       "  <tbody>\n",
       "    <tr>\n",
       "      <th>0</th>\n",
       "      <td>2879.598286</td>\n",
       "      <td>9.300</td>\n",
       "      <td>2164.477336</td>\n",
       "      <td>0.016047</td>\n",
       "      <td>2232.542597</td>\n",
       "      <td>249.8092</td>\n",
       "      <td>2348.354635</td>\n",
       "      <td>1999</td>\n",
       "      <td>2681.603542</td>\n",
       "      <td>1876.909159</td>\n",
       "      <td>2316.181148</td>\n",
       "    </tr>\n",
       "    <tr>\n",
       "      <th>1</th>\n",
       "      <td>1920.354050</td>\n",
       "      <td>5.920</td>\n",
       "      <td>2235.186702</td>\n",
       "      <td>0.019278</td>\n",
       "      <td>2006.511735</td>\n",
       "      <td>48.2692</td>\n",
       "      <td>1995.498739</td>\n",
       "      <td>2009</td>\n",
       "      <td>2681.603542</td>\n",
       "      <td>2279.627651</td>\n",
       "      <td>1995.498739</td>\n",
       "    </tr>\n",
       "    <tr>\n",
       "      <th>2</th>\n",
       "      <td>2030.685308</td>\n",
       "      <td>17.500</td>\n",
       "      <td>2164.477336</td>\n",
       "      <td>0.016760</td>\n",
       "      <td>2158.977911</td>\n",
       "      <td>141.6180</td>\n",
       "      <td>2348.354635</td>\n",
       "      <td>1999</td>\n",
       "      <td>2681.603542</td>\n",
       "      <td>1876.909159</td>\n",
       "      <td>2316.181148</td>\n",
       "    </tr>\n",
       "    <tr>\n",
       "      <th>3</th>\n",
       "      <td>2347.410648</td>\n",
       "      <td>19.200</td>\n",
       "      <td>2235.186702</td>\n",
       "      <td>0.000000</td>\n",
       "      <td>2289.009592</td>\n",
       "      <td>182.0950</td>\n",
       "      <td>339.351662</td>\n",
       "      <td>1998</td>\n",
       "      <td>1822.626947</td>\n",
       "      <td>2279.627651</td>\n",
       "      <td>339.828500</td>\n",
       "    </tr>\n",
       "    <tr>\n",
       "      <th>4</th>\n",
       "      <td>1879.152033</td>\n",
       "      <td>8.930</td>\n",
       "      <td>2164.477336</td>\n",
       "      <td>0.000000</td>\n",
       "      <td>2258.784300</td>\n",
       "      <td>53.8614</td>\n",
       "      <td>2298.995256</td>\n",
       "      <td>1987</td>\n",
       "      <td>2298.995256</td>\n",
       "      <td>2279.627651</td>\n",
       "      <td>2316.181148</td>\n",
       "    </tr>\n",
       "    <tr>\n",
       "      <th>...</th>\n",
       "      <td>...</td>\n",
       "      <td>...</td>\n",
       "      <td>...</td>\n",
       "      <td>...</td>\n",
       "      <td>...</td>\n",
       "      <td>...</td>\n",
       "      <td>...</td>\n",
       "      <td>...</td>\n",
       "      <td>...</td>\n",
       "      <td>...</td>\n",
       "      <td>...</td>\n",
       "    </tr>\n",
       "    <tr>\n",
       "      <th>8518</th>\n",
       "      <td>2424.628001</td>\n",
       "      <td>6.865</td>\n",
       "      <td>2164.477336</td>\n",
       "      <td>0.056783</td>\n",
       "      <td>2277.321739</td>\n",
       "      <td>214.5218</td>\n",
       "      <td>2298.995256</td>\n",
       "      <td>1987</td>\n",
       "      <td>2298.995256</td>\n",
       "      <td>2279.627651</td>\n",
       "      <td>2316.181148</td>\n",
       "    </tr>\n",
       "    <tr>\n",
       "      <th>8519</th>\n",
       "      <td>2271.350452</td>\n",
       "      <td>8.380</td>\n",
       "      <td>2235.186702</td>\n",
       "      <td>0.046982</td>\n",
       "      <td>1952.971207</td>\n",
       "      <td>108.1570</td>\n",
       "      <td>2192.384798</td>\n",
       "      <td>2002</td>\n",
       "      <td>1822.626947</td>\n",
       "      <td>2323.990559</td>\n",
       "      <td>2316.181148</td>\n",
       "    </tr>\n",
       "    <tr>\n",
       "      <th>8520</th>\n",
       "      <td>1991.431370</td>\n",
       "      <td>10.600</td>\n",
       "      <td>2164.477336</td>\n",
       "      <td>0.035186</td>\n",
       "      <td>2010.000265</td>\n",
       "      <td>85.1224</td>\n",
       "      <td>2438.841866</td>\n",
       "      <td>2004</td>\n",
       "      <td>1912.149161</td>\n",
       "      <td>2323.990559</td>\n",
       "      <td>2316.181148</td>\n",
       "    </tr>\n",
       "    <tr>\n",
       "      <th>8521</th>\n",
       "      <td>2158.829654</td>\n",
       "      <td>7.210</td>\n",
       "      <td>2235.186702</td>\n",
       "      <td>0.145221</td>\n",
       "      <td>2277.321739</td>\n",
       "      <td>103.1332</td>\n",
       "      <td>1995.498739</td>\n",
       "      <td>2009</td>\n",
       "      <td>2681.603542</td>\n",
       "      <td>2279.627651</td>\n",
       "      <td>1995.498739</td>\n",
       "    </tr>\n",
       "    <tr>\n",
       "      <th>8522</th>\n",
       "      <td>2006.850542</td>\n",
       "      <td>14.800</td>\n",
       "      <td>2164.477336</td>\n",
       "      <td>0.044878</td>\n",
       "      <td>2006.511735</td>\n",
       "      <td>75.4670</td>\n",
       "      <td>2277.844267</td>\n",
       "      <td>1997</td>\n",
       "      <td>1912.149161</td>\n",
       "      <td>1876.909159</td>\n",
       "      <td>2316.181148</td>\n",
       "    </tr>\n",
       "  </tbody>\n",
       "</table>\n",
       "<p>8523 rows × 11 columns</p>\n",
       "</div>"
      ],
      "text/plain": [
       "      Item_Identifier_ce  Item_Weight_ce  Item_Fat_Content_ce  \\\n",
       "0            2879.598286           9.300          2164.477336   \n",
       "1            1920.354050           5.920          2235.186702   \n",
       "2            2030.685308          17.500          2164.477336   \n",
       "3            2347.410648          19.200          2235.186702   \n",
       "4            1879.152033           8.930          2164.477336   \n",
       "...                  ...             ...                  ...   \n",
       "8518         2424.628001           6.865          2164.477336   \n",
       "8519         2271.350452           8.380          2235.186702   \n",
       "8520         1991.431370          10.600          2164.477336   \n",
       "8521         2158.829654           7.210          2235.186702   \n",
       "8522         2006.850542          14.800          2164.477336   \n",
       "\n",
       "      Item_Visibility_ce  Item_Type_ce  Item_MRP_ce  Outlet_Identifier_ce  \\\n",
       "0               0.016047   2232.542597     249.8092           2348.354635   \n",
       "1               0.019278   2006.511735      48.2692           1995.498739   \n",
       "2               0.016760   2158.977911     141.6180           2348.354635   \n",
       "3               0.000000   2289.009592     182.0950            339.351662   \n",
       "4               0.000000   2258.784300      53.8614           2298.995256   \n",
       "...                  ...           ...          ...                   ...   \n",
       "8518            0.056783   2277.321739     214.5218           2298.995256   \n",
       "8519            0.046982   1952.971207     108.1570           2192.384798   \n",
       "8520            0.035186   2010.000265      85.1224           2438.841866   \n",
       "8521            0.145221   2277.321739     103.1332           1995.498739   \n",
       "8522            0.044878   2006.511735      75.4670           2277.844267   \n",
       "\n",
       "      Outlet_Establishment_Year_ce  Outlet_Size_ce  Outlet_Location_Type_ce  \\\n",
       "0                             1999     2681.603542              1876.909159   \n",
       "1                             2009     2681.603542              2279.627651   \n",
       "2                             1999     2681.603542              1876.909159   \n",
       "3                             1998     1822.626947              2279.627651   \n",
       "4                             1987     2298.995256              2279.627651   \n",
       "...                            ...             ...                      ...   \n",
       "8518                          1987     2298.995256              2279.627651   \n",
       "8519                          2002     1822.626947              2323.990559   \n",
       "8520                          2004     1912.149161              2323.990559   \n",
       "8521                          2009     2681.603542              2279.627651   \n",
       "8522                          1997     1912.149161              1876.909159   \n",
       "\n",
       "      Outlet_Type_ce  \n",
       "0        2316.181148  \n",
       "1        1995.498739  \n",
       "2        2316.181148  \n",
       "3         339.828500  \n",
       "4        2316.181148  \n",
       "...              ...  \n",
       "8518     2316.181148  \n",
       "8519     2316.181148  \n",
       "8520     2316.181148  \n",
       "8521     1995.498739  \n",
       "8522     2316.181148  \n",
       "\n",
       "[8523 rows x 11 columns]"
      ]
     },
     "execution_count": 102,
     "metadata": {},
     "output_type": "execute_result"
    }
   ],
   "source": [
    "a.columns = [x+ '_ce' for x in a.columns ]\n",
    "a"
   ]
  },
  {
   "cell_type": "code",
   "execution_count": 107,
   "metadata": {},
   "outputs": [
    {
     "data": {
      "text/plain": [
       "Index(['Item_Weight', 'Item_Visibility', 'Item_MRP',\n",
       "       'Outlet_Establishment_Year', 'Item_Identifier_DRA12',\n",
       "       'Item_Identifier_DRA24', 'Item_Identifier_DRA59',\n",
       "       'Item_Identifier_DRB01', 'Item_Identifier_DRB13',\n",
       "       'Item_Identifier_DRB24',\n",
       "       ...\n",
       "       'Item_Weight_ce', 'Item_Fat_Content_ce', 'Item_Visibility_ce',\n",
       "       'Item_Type_ce', 'Item_MRP_ce', 'Outlet_Identifier_ce',\n",
       "       'Outlet_Establishment_Year_ce', 'Outlet_Size_ce',\n",
       "       'Outlet_Location_Type_ce', 'Outlet_Type_ce'],\n",
       "      dtype='object', length=1615)"
      ]
     },
     "execution_count": 107,
     "metadata": {},
     "output_type": "execute_result"
    }
   ],
   "source": [
    "b = pd.concat([pd.get_dummies(x), a], axis = 1)\n",
    "b.columns"
   ]
  },
  {
   "cell_type": "code",
   "execution_count": 108,
   "metadata": {},
   "outputs": [],
   "source": [
    "b = b.fillna(0)"
   ]
  },
  {
   "cell_type": "code",
   "execution_count": 87,
   "metadata": {},
   "outputs": [],
   "source": [
    "from sklearn.linear_model import LinearRegression as lin_reg\n",
    "from sklearn.ensemble import RandomForestRegressor as rf"
   ]
  },
  {
   "cell_type": "code",
   "execution_count": null,
   "metadata": {},
   "outputs": [
    {
     "data": {
      "text/html": [
       "<style>#sk-container-id-3 {color: black;background-color: white;}#sk-container-id-3 pre{padding: 0;}#sk-container-id-3 div.sk-toggleable {background-color: white;}#sk-container-id-3 label.sk-toggleable__label {cursor: pointer;display: block;width: 100%;margin-bottom: 0;padding: 0.3em;box-sizing: border-box;text-align: center;}#sk-container-id-3 label.sk-toggleable__label-arrow:before {content: \"▸\";float: left;margin-right: 0.25em;color: #696969;}#sk-container-id-3 label.sk-toggleable__label-arrow:hover:before {color: black;}#sk-container-id-3 div.sk-estimator:hover label.sk-toggleable__label-arrow:before {color: black;}#sk-container-id-3 div.sk-toggleable__content {max-height: 0;max-width: 0;overflow: hidden;text-align: left;background-color: #f0f8ff;}#sk-container-id-3 div.sk-toggleable__content pre {margin: 0.2em;color: black;border-radius: 0.25em;background-color: #f0f8ff;}#sk-container-id-3 input.sk-toggleable__control:checked~div.sk-toggleable__content {max-height: 200px;max-width: 100%;overflow: auto;}#sk-container-id-3 input.sk-toggleable__control:checked~label.sk-toggleable__label-arrow:before {content: \"▾\";}#sk-container-id-3 div.sk-estimator input.sk-toggleable__control:checked~label.sk-toggleable__label {background-color: #d4ebff;}#sk-container-id-3 div.sk-label input.sk-toggleable__control:checked~label.sk-toggleable__label {background-color: #d4ebff;}#sk-container-id-3 input.sk-hidden--visually {border: 0;clip: rect(1px 1px 1px 1px);clip: rect(1px, 1px, 1px, 1px);height: 1px;margin: -1px;overflow: hidden;padding: 0;position: absolute;width: 1px;}#sk-container-id-3 div.sk-estimator {font-family: monospace;background-color: #f0f8ff;border: 1px dotted black;border-radius: 0.25em;box-sizing: border-box;margin-bottom: 0.5em;}#sk-container-id-3 div.sk-estimator:hover {background-color: #d4ebff;}#sk-container-id-3 div.sk-parallel-item::after {content: \"\";width: 100%;border-bottom: 1px solid gray;flex-grow: 1;}#sk-container-id-3 div.sk-label:hover label.sk-toggleable__label {background-color: #d4ebff;}#sk-container-id-3 div.sk-serial::before {content: \"\";position: absolute;border-left: 1px solid gray;box-sizing: border-box;top: 0;bottom: 0;left: 50%;z-index: 0;}#sk-container-id-3 div.sk-serial {display: flex;flex-direction: column;align-items: center;background-color: white;padding-right: 0.2em;padding-left: 0.2em;position: relative;}#sk-container-id-3 div.sk-item {position: relative;z-index: 1;}#sk-container-id-3 div.sk-parallel {display: flex;align-items: stretch;justify-content: center;background-color: white;position: relative;}#sk-container-id-3 div.sk-item::before, #sk-container-id-3 div.sk-parallel-item::before {content: \"\";position: absolute;border-left: 1px solid gray;box-sizing: border-box;top: 0;bottom: 0;left: 50%;z-index: -1;}#sk-container-id-3 div.sk-parallel-item {display: flex;flex-direction: column;z-index: 1;position: relative;background-color: white;}#sk-container-id-3 div.sk-parallel-item:first-child::after {align-self: flex-end;width: 50%;}#sk-container-id-3 div.sk-parallel-item:last-child::after {align-self: flex-start;width: 50%;}#sk-container-id-3 div.sk-parallel-item:only-child::after {width: 0;}#sk-container-id-3 div.sk-dashed-wrapped {border: 1px dashed gray;margin: 0 0.4em 0.5em 0.4em;box-sizing: border-box;padding-bottom: 0.4em;background-color: white;}#sk-container-id-3 div.sk-label label {font-family: monospace;font-weight: bold;display: inline-block;line-height: 1.2em;}#sk-container-id-3 div.sk-label-container {text-align: center;}#sk-container-id-3 div.sk-container {/* jupyter's `normalize.less` sets `[hidden] { display: none; }` but bootstrap.min.css set `[hidden] { display: none !important; }` so we also need the `!important` here to be able to override the default hidden behavior on the sphinx rendered scikit-learn.org. See: https://github.com/scikit-learn/scikit-learn/issues/21755 */display: inline-block !important;position: relative;}#sk-container-id-3 div.sk-text-repr-fallback {display: none;}</style><div id=\"sk-container-id-3\" class=\"sk-top-container\"><div class=\"sk-text-repr-fallback\"><pre>LinearRegression()</pre><b>In a Jupyter environment, please rerun this cell to show the HTML representation or trust the notebook. <br />On GitHub, the HTML representation is unable to render, please try loading this page with nbviewer.org.</b></div><div class=\"sk-container\" hidden><div class=\"sk-item\"><div class=\"sk-estimator sk-toggleable\"><input class=\"sk-toggleable__control sk-hidden--visually\" id=\"sk-estimator-id-3\" type=\"checkbox\" checked><label for=\"sk-estimator-id-3\" class=\"sk-toggleable__label sk-toggleable__label-arrow\">LinearRegression</label><div class=\"sk-toggleable__content\"><pre>LinearRegression()</pre></div></div></div></div></div>"
      ],
      "text/plain": [
       "LinearRegression()"
      ]
     },
     "execution_count": 51,
     "metadata": {},
     "output_type": "execute_result"
    }
   ],
   "source": [
    "model = lin_reg()\n",
    "model.fit(a,y)"
   ]
  },
  {
   "cell_type": "code",
   "execution_count": null,
   "metadata": {},
   "outputs": [],
   "source": [
    "from sklearn.model_selection import cross_val_score\n",
    "from sklearn.metrics import get_scorer_names, make_scorer\n",
    "from sklearn.metrics import mean_absolute_percentage_error"
   ]
  },
  {
   "cell_type": "code",
   "execution_count": 109,
   "metadata": {},
   "outputs": [
    {
     "data": {
      "text/plain": [
       "array([-0.55374324, -0.5215076 , -0.52234965, -0.53288228, -0.51060973])"
      ]
     },
     "execution_count": 109,
     "metadata": {},
     "output_type": "execute_result"
    }
   ],
   "source": [
    "\n",
    "scorerr = make_scorer(mean_absolute_percentage_error, greater_is_better=False)\n",
    "cv = cross_val_score(rf(), b,y, scoring = scorerr, n_jobs = -1)\n",
    "cv"
   ]
  },
  {
   "cell_type": "code",
   "execution_count": 110,
   "metadata": {},
   "outputs": [],
   "source": [
    "from sklearn.feature_selection import RFECV"
   ]
  },
  {
   "cell_type": "code",
   "execution_count": 111,
   "metadata": {},
   "outputs": [
    {
     "ename": "KeyboardInterrupt",
     "evalue": "",
     "output_type": "error",
     "traceback": [
      "\u001b[0;31m---------------------------------------------------------------------------\u001b[0m",
      "\u001b[0;31mKeyboardInterrupt\u001b[0m                         Traceback (most recent call last)",
      "\u001b[1;32m/Users/sourcecode/Documents/science/Reorganism/ml_black_belt/my_work/retail_prediction/retail_pred_0.ipynb Cell 19\u001b[0m in \u001b[0;36m<cell line: 1>\u001b[0;34m()\u001b[0m\n\u001b[0;32m----> <a href='vscode-notebook-cell:/Users/sourcecode/Documents/science/Reorganism/ml_black_belt/my_work/retail_prediction/retail_pred_0.ipynb#X34sZmlsZQ%3D%3D?line=0'>1</a>\u001b[0m rfecv  \u001b[39m=\u001b[39m RFECV(rf(), scoring \u001b[39m=\u001b[39;49m scorerr, n_jobs\u001b[39m=\u001b[39;49m\u001b[39m-\u001b[39;49m\u001b[39m1\u001b[39;49m)\u001b[39m.\u001b[39;49mfit(b,y)\n",
      "File \u001b[0;32m/Library/Frameworks/Python.framework/Versions/3.10/lib/python3.10/site-packages/sklearn/feature_selection/_rfe.py:725\u001b[0m, in \u001b[0;36mRFECV.fit\u001b[0;34m(self, X, y, groups)\u001b[0m\n\u001b[1;32m    722\u001b[0m     parallel \u001b[39m=\u001b[39m Parallel(n_jobs\u001b[39m=\u001b[39m\u001b[39mself\u001b[39m\u001b[39m.\u001b[39mn_jobs)\n\u001b[1;32m    723\u001b[0m     func \u001b[39m=\u001b[39m delayed(_rfe_single_fit)\n\u001b[0;32m--> 725\u001b[0m scores \u001b[39m=\u001b[39m parallel(\n\u001b[1;32m    726\u001b[0m     func(rfe, \u001b[39mself\u001b[39;49m\u001b[39m.\u001b[39;49mestimator, X, y, train, test, scorer)\n\u001b[1;32m    727\u001b[0m     \u001b[39mfor\u001b[39;49;00m train, test \u001b[39min\u001b[39;49;00m cv\u001b[39m.\u001b[39;49msplit(X, y, groups)\n\u001b[1;32m    728\u001b[0m )\n\u001b[1;32m    730\u001b[0m scores \u001b[39m=\u001b[39m np\u001b[39m.\u001b[39marray(scores)\n\u001b[1;32m    731\u001b[0m scores_sum \u001b[39m=\u001b[39m np\u001b[39m.\u001b[39msum(scores, axis\u001b[39m=\u001b[39m\u001b[39m0\u001b[39m)\n",
      "File \u001b[0;32m/Library/Frameworks/Python.framework/Versions/3.10/lib/python3.10/site-packages/sklearn/utils/parallel.py:63\u001b[0m, in \u001b[0;36mParallel.__call__\u001b[0;34m(self, iterable)\u001b[0m\n\u001b[1;32m     58\u001b[0m config \u001b[39m=\u001b[39m get_config()\n\u001b[1;32m     59\u001b[0m iterable_with_config \u001b[39m=\u001b[39m (\n\u001b[1;32m     60\u001b[0m     (_with_config(delayed_func, config), args, kwargs)\n\u001b[1;32m     61\u001b[0m     \u001b[39mfor\u001b[39;00m delayed_func, args, kwargs \u001b[39min\u001b[39;00m iterable\n\u001b[1;32m     62\u001b[0m )\n\u001b[0;32m---> 63\u001b[0m \u001b[39mreturn\u001b[39;00m \u001b[39msuper\u001b[39;49m()\u001b[39m.\u001b[39;49m\u001b[39m__call__\u001b[39;49m(iterable_with_config)\n",
      "File \u001b[0;32m/Library/Frameworks/Python.framework/Versions/3.10/lib/python3.10/site-packages/joblib/parallel.py:1098\u001b[0m, in \u001b[0;36mParallel.__call__\u001b[0;34m(self, iterable)\u001b[0m\n\u001b[1;32m   1095\u001b[0m     \u001b[39mself\u001b[39m\u001b[39m.\u001b[39m_iterating \u001b[39m=\u001b[39m \u001b[39mFalse\u001b[39;00m\n\u001b[1;32m   1097\u001b[0m \u001b[39mwith\u001b[39;00m \u001b[39mself\u001b[39m\u001b[39m.\u001b[39m_backend\u001b[39m.\u001b[39mretrieval_context():\n\u001b[0;32m-> 1098\u001b[0m     \u001b[39mself\u001b[39;49m\u001b[39m.\u001b[39;49mretrieve()\n\u001b[1;32m   1099\u001b[0m \u001b[39m# Make sure that we get a last message telling us we are done\u001b[39;00m\n\u001b[1;32m   1100\u001b[0m elapsed_time \u001b[39m=\u001b[39m time\u001b[39m.\u001b[39mtime() \u001b[39m-\u001b[39m \u001b[39mself\u001b[39m\u001b[39m.\u001b[39m_start_time\n",
      "File \u001b[0;32m/Library/Frameworks/Python.framework/Versions/3.10/lib/python3.10/site-packages/joblib/parallel.py:975\u001b[0m, in \u001b[0;36mParallel.retrieve\u001b[0;34m(self)\u001b[0m\n\u001b[1;32m    973\u001b[0m \u001b[39mtry\u001b[39;00m:\n\u001b[1;32m    974\u001b[0m     \u001b[39mif\u001b[39;00m \u001b[39mgetattr\u001b[39m(\u001b[39mself\u001b[39m\u001b[39m.\u001b[39m_backend, \u001b[39m'\u001b[39m\u001b[39msupports_timeout\u001b[39m\u001b[39m'\u001b[39m, \u001b[39mFalse\u001b[39;00m):\n\u001b[0;32m--> 975\u001b[0m         \u001b[39mself\u001b[39m\u001b[39m.\u001b[39m_output\u001b[39m.\u001b[39mextend(job\u001b[39m.\u001b[39;49mget(timeout\u001b[39m=\u001b[39;49m\u001b[39mself\u001b[39;49m\u001b[39m.\u001b[39;49mtimeout))\n\u001b[1;32m    976\u001b[0m     \u001b[39melse\u001b[39;00m:\n\u001b[1;32m    977\u001b[0m         \u001b[39mself\u001b[39m\u001b[39m.\u001b[39m_output\u001b[39m.\u001b[39mextend(job\u001b[39m.\u001b[39mget())\n",
      "File \u001b[0;32m/Library/Frameworks/Python.framework/Versions/3.10/lib/python3.10/site-packages/joblib/_parallel_backends.py:567\u001b[0m, in \u001b[0;36mLokyBackend.wrap_future_result\u001b[0;34m(future, timeout)\u001b[0m\n\u001b[1;32m    564\u001b[0m \u001b[39m\"\"\"Wrapper for Future.result to implement the same behaviour as\u001b[39;00m\n\u001b[1;32m    565\u001b[0m \u001b[39mAsyncResults.get from multiprocessing.\"\"\"\u001b[39;00m\n\u001b[1;32m    566\u001b[0m \u001b[39mtry\u001b[39;00m:\n\u001b[0;32m--> 567\u001b[0m     \u001b[39mreturn\u001b[39;00m future\u001b[39m.\u001b[39;49mresult(timeout\u001b[39m=\u001b[39;49mtimeout)\n\u001b[1;32m    568\u001b[0m \u001b[39mexcept\u001b[39;00m CfTimeoutError \u001b[39mas\u001b[39;00m e:\n\u001b[1;32m    569\u001b[0m     \u001b[39mraise\u001b[39;00m \u001b[39mTimeoutError\u001b[39;00m \u001b[39mfrom\u001b[39;00m \u001b[39me\u001b[39;00m\n",
      "File \u001b[0;32m/Library/Frameworks/Python.framework/Versions/3.10/lib/python3.10/concurrent/futures/_base.py:441\u001b[0m, in \u001b[0;36mFuture.result\u001b[0;34m(self, timeout)\u001b[0m\n\u001b[1;32m    438\u001b[0m \u001b[39melif\u001b[39;00m \u001b[39mself\u001b[39m\u001b[39m.\u001b[39m_state \u001b[39m==\u001b[39m FINISHED:\n\u001b[1;32m    439\u001b[0m     \u001b[39mreturn\u001b[39;00m \u001b[39mself\u001b[39m\u001b[39m.\u001b[39m__get_result()\n\u001b[0;32m--> 441\u001b[0m \u001b[39mself\u001b[39;49m\u001b[39m.\u001b[39;49m_condition\u001b[39m.\u001b[39;49mwait(timeout)\n\u001b[1;32m    443\u001b[0m \u001b[39mif\u001b[39;00m \u001b[39mself\u001b[39m\u001b[39m.\u001b[39m_state \u001b[39min\u001b[39;00m [CANCELLED, CANCELLED_AND_NOTIFIED]:\n\u001b[1;32m    444\u001b[0m     \u001b[39mraise\u001b[39;00m CancelledError()\n",
      "File \u001b[0;32m/Library/Frameworks/Python.framework/Versions/3.10/lib/python3.10/threading.py:320\u001b[0m, in \u001b[0;36mCondition.wait\u001b[0;34m(self, timeout)\u001b[0m\n\u001b[1;32m    318\u001b[0m \u001b[39mtry\u001b[39;00m:    \u001b[39m# restore state no matter what (e.g., KeyboardInterrupt)\u001b[39;00m\n\u001b[1;32m    319\u001b[0m     \u001b[39mif\u001b[39;00m timeout \u001b[39mis\u001b[39;00m \u001b[39mNone\u001b[39;00m:\n\u001b[0;32m--> 320\u001b[0m         waiter\u001b[39m.\u001b[39;49macquire()\n\u001b[1;32m    321\u001b[0m         gotit \u001b[39m=\u001b[39m \u001b[39mTrue\u001b[39;00m\n\u001b[1;32m    322\u001b[0m     \u001b[39melse\u001b[39;00m:\n",
      "\u001b[0;31mKeyboardInterrupt\u001b[0m: "
     ]
    }
   ],
   "source": [
    "rfecv  = RFECV(rf(), scoring = scorerr, n_jobs=-1).fit(b,y)"
   ]
  },
  {
   "cell_type": "code",
   "execution_count": null,
   "metadata": {},
   "outputs": [],
   "source": [
    "rfecv"
   ]
  },
  {
   "cell_type": "code",
   "execution_count": 124,
   "metadata": {},
   "outputs": [],
   "source": [
    "import modeling_helper_class as mh"
   ]
  },
  {
   "cell_type": "code",
   "execution_count": 125,
   "metadata": {},
   "outputs": [
    {
     "name": "stdout",
     "output_type": "stream",
     "text": [
      "Welcome to model object\n"
     ]
    },
    {
     "data": {
      "text/plain": [
       "<modeling_helper_class.model_object at 0x28f84d600>"
      ]
     },
     "execution_count": 125,
     "metadata": {},
     "output_type": "execute_result"
    }
   ],
   "source": [
    "\n",
    "\n",
    "df = pd.read_csv(train_file)\n",
    "df = pd.concat([a,y], axis= 1)\n",
    "#df = pd.get_dummies(df).fillna(0)\n",
    "\n",
    "mo = mh.model_object(model = rf(), \n",
    "                  df = df, target = 'Item_Outlet_Sales', scorer = scorerr)\n",
    "mo"
   ]
  },
  {
   "cell_type": "code",
   "execution_count": 126,
   "metadata": {},
   "outputs": [
    {
     "name": "stdout",
     "output_type": "stream",
     "text": [
      "Fitting model RandomForestRegressor(), with 11 features\n",
      "Validating Model RandomForestRegressor() with 11 features\n",
      "Mean: -0.538837853437176, STD: 0.016518256227288038\n",
      "_________________________\n",
      "Baseline Score: -0.538837853437176, 0.016518256227288038\n",
      "Tuning\n",
      "Tuning RandomForestRegressor(), with  11 features\n"
     ]
    },
    {
     "name": "stderr",
     "output_type": "stream",
     "text": [
      "/Library/Frameworks/Python.framework/Versions/3.10/lib/python3.10/site-packages/joblib/externals/loky/process_executor.py:700: UserWarning: A worker stopped while some jobs were given to the executor. This can be caused by a too short worker timeout or by a memory leak.\n",
      "  warnings.warn(\n"
     ]
    },
    {
     "name": "stdout",
     "output_type": "stream",
     "text": [
      "Tuned Baseline Score: -0.5060272129812168, 0.015789089279139197\n",
      "Fitting model RandomForestRegressor(max_depth=7, max_features=251, n_estimators=923), with 11 features\n",
      "Validating Model RandomForestRegressor(max_depth=7, max_features=251, n_estimators=923) with 11 features\n",
      "Mean: -0.5060247293314837, STD: 0.01588035957328871\n",
      "_________________________\n",
      "FeatSelecting on BaseLine Model\n",
      "Selecting Features from x with 11 features\n",
      "Performing RFE CV\n",
      "Selected 5 features\n",
      "Fitting model RandomForestRegressor(), with 5 features\n",
      "Validating Model RandomForestRegressor() with 5 features\n",
      "Mean: -0.5368603728175262, STD: 0.015635474085845282\n",
      "_________________________\n",
      "FS - BL Score : -0.5368603728175262, 0.015635474085845282\n",
      "Tuning Feature Selected BaseLine Model\n",
      "Tuning RandomForestRegressor(), with  5 features\n",
      "Tuned Baseline Score: -0.5063465566236258, 0.015600155125667476\n",
      "Fitting model RandomForestRegressor(max_depth=8, max_features=867, n_estimators=696), with 5 features\n",
      "Validating Model RandomForestRegressor(max_depth=8, max_features=867, n_estimators=696) with 5 features\n",
      "Mean: -0.5062552869232481, STD: 0.015991240912544682\n",
      "_________________________\n",
      "FS - BL - Tuned Score: -0.5063465566236258, 0.015600155125667476\n",
      "FS - BL - Tuned Score Again: -0.5062552869232481, 0.015991240912544682\n",
      "FeatSelecting on Tuned Model\n",
      "Selecting Features from x with 11 features\n",
      "Performing RFE CV\n",
      "Selected 11 features\n",
      "Fitting model RandomForestRegressor(max_depth=7, max_features=251, n_estimators=923), with 11 features\n",
      "Validating Model RandomForestRegressor(max_depth=7, max_features=251, n_estimators=923) with 11 features\n",
      "Mean: -0.5061166057977529, STD: 0.015837207845382107\n",
      "_________________________\n",
      "FS - Tuned Score : -0.5061166057977529, 0.015837207845382107\n",
      "Tuning Feature Selected Tuned Model\n",
      "Tuning RandomForestRegressor(max_depth=7, max_features=251, n_estimators=923), with  11 features\n",
      "Tuned Baseline Score: -0.5076608191942106, 0.015744824683471187\n",
      "Fitting model RandomForestRegressor(max_depth=8, max_features=81, n_estimators=385), with 11 features\n",
      "Validating Model RandomForestRegressor(max_depth=8, max_features=81, n_estimators=385) with 11 features\n",
      "Mean: -0.5077803313093406, STD: 0.015355422654798449\n",
      "_________________________\n",
      "FS - Tuned - Tuned Score: -0.5076608191942106, 0.015744824683471187\n",
      "FS - Tuned - Tuned Score Again: -0.5077803313093406, 0.015355422654798449\n"
     ]
    }
   ],
   "source": [
    "mo.get_best_model()"
   ]
  },
  {
   "cell_type": "code",
   "execution_count": null,
   "metadata": {},
   "outputs": [],
   "source": []
  }
 ],
 "metadata": {
  "kernelspec": {
   "display_name": "Python 3",
   "language": "python",
   "name": "python3"
  },
  "language_info": {
   "codemirror_mode": {
    "name": "ipython",
    "version": 3
   },
   "file_extension": ".py",
   "mimetype": "text/x-python",
   "name": "python",
   "nbconvert_exporter": "python",
   "pygments_lexer": "ipython3",
   "version": "3.10.4"
  },
  "orig_nbformat": 4,
  "vscode": {
   "interpreter": {
    "hash": "aee8b7b246df8f9039afb4144a1f6fd8d2ca17a180786b69acc140d282b71a49"
   }
  }
 },
 "nbformat": 4,
 "nbformat_minor": 2
}
