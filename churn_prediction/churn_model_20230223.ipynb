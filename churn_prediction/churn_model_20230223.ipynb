{
 "cells": [
  {
   "cell_type": "markdown",
   "id": "2e2577e3-9b43-43bf-88df-c9e2a0cfe031",
   "metadata": {},
   "source": [
    "# Load"
   ]
  },
  {
   "cell_type": "code",
   "execution_count": 687,
   "id": "381b8272-793a-47ef-9000-e566bb091486",
   "metadata": {},
   "outputs": [
    {
     "name": "stdout",
     "output_type": "stream",
     "text": [
      "The autoreload extension is already loaded. To reload it, use:\n",
      "  %reload_ext autoreload\n"
     ]
    },
    {
     "data": {
      "text/plain": [
       "\"\\ndef evaluate_predictions(preds, actuals):\\n    \\n    # DF\\n    preds_df = pd.DataFrame(preds, columns = {'predictions'}, index = actuals.index)\\n    preds_df['actuals'] = actuals\\n    preds_df['error'] = actuals == preds\\n    \\n    # Confustion Matrix\\n    pd.crosstab(actuals, preds)\\n    \\n    # ROC Curve, ROC Metric\\n    \\n    # Errors\\n    \\n    errors = [mape, mae, rmsle, r2]\\n    \\n    print(f'MAPE is: {mape}, MAE is : {mae}, RMSLE : {rmsle}, r2: {r2}')\\n    \\n    return errors, preds_df\\n\""
      ]
     },
     "execution_count": 687,
     "metadata": {},
     "output_type": "execute_result"
    }
   ],
   "source": [
    "%load_ext autoreload\n",
    "%autoreload 2\n",
    "\n",
    "import pandas as pd\n",
    "import data_preprocesing_helpers as dp\n",
    "import data_explorer as de\n",
    "\n",
    "\n",
    "import numpy as np\n",
    "import seaborn as sns\n",
    "\n",
    "from sklearn.linear_model import LogisticRegression as log_reg\n",
    "from sklearn.tree import DecisionTreeClassifier as dtree\n",
    "from sklearn.ensemble import RandomForestClassifier as rf\n",
    "\n",
    "from sklearn.metrics import accuracy_score, roc_auc_score, roc_curve, precision_score, recall_score, f1_score, plot_roc_curve\n",
    "from sklearn.model_selection import train_test_split, cross_val_score\n",
    "from sklearn.preprocessing import StandardScaler, MinMaxScaler\n",
    "from sklearn.pipeline import make_pipeline\n",
    "from sklearn.model_selection import GridSearchCV\n",
    "\n",
    "from sklearn.metrics import auc, classification_report, RocCurveDisplay\n",
    "\n",
    "import statsmodels.api as sm\n",
    "\n",
    "def scale_x(x, xval):\n",
    "    scaler = StandardScaler()\n",
    "    scaler.fit(x)\n",
    "    x_scaled = pd.DataFrame(scaler.transform(x), columns = scaler.feature_names_in_, index = x.index)\n",
    "    xval_scaled = pd.DataFrame(scaler.transform(xval), columns = scaler.feature_names_in_, index = xval.index)\n",
    "    return x_scaled, xval_scaled\n",
    "\n",
    "\n",
    "def evaluate_predictions(actuals, preds, probs = None):\n",
    "    \n",
    "    preds_df = pd.DataFrame(preds, columns = {'predictions'}, index = actuals.index)\n",
    "    preds_df['actuals'] = actuals\n",
    "    preds_df['probs'] = probs\n",
    "    preds_df['error'] = actuals == preds\n",
    "    \n",
    "    report = classification_report(actuals, preds, output_dict = True)\n",
    "    actuals = yval\n",
    "    acc = accuracy_score(actuals, preds)\n",
    "    precision = precision_score(actuals, preds)\n",
    "    recall = recall_score(actuals, preds)\n",
    "    f1 = f1_score(actuals, preds)\n",
    "    roc_auc = roc_auc_score(actuals, preds)\n",
    "\n",
    "    errors = [acc, roc_auc, precision, recall, f1]\n",
    "    \n",
    "    print(f'Accuracy: {acc}, Precision: {precision}, Recall: {recall}, F1: {f1}')\n",
    "    \n",
    "\n",
    "    fpr, tpr, thresholds = roc_curve(yval, probs)\n",
    "    roc_auc = auc(fpr, tpr)\n",
    "    display = RocCurveDisplay(fpr=fpr, tpr=tpr, roc_auc=roc_auc)\n",
    "    display.plot()\n",
    "    \n",
    "    return report, errors, preds_df\n",
    "\n",
    "\"\"\"\n",
    "def evaluate_predictions(preds, actuals):\n",
    "    \n",
    "    # DF\n",
    "    preds_df = pd.DataFrame(preds, columns = {'predictions'}, index = actuals.index)\n",
    "    preds_df['actuals'] = actuals\n",
    "    preds_df['error'] = actuals == preds\n",
    "    \n",
    "    # Confustion Matrix\n",
    "    pd.crosstab(actuals, preds)\n",
    "    \n",
    "    # ROC Curve, ROC Metric\n",
    "    \n",
    "    # Errors\n",
    "    \n",
    "    errors = [mape, mae, rmsle, r2]\n",
    "    \n",
    "    print(f'MAPE is: {mape}, MAE is : {mae}, RMSLE : {rmsle}, r2: {r2}')\n",
    "    \n",
    "    return errors, preds_df\n",
    "\"\"\"\n"
   ]
  },
  {
   "cell_type": "code",
   "execution_count": 688,
   "id": "4ed6916b-bb73-44d6-ab86-f11b50d26b0e",
   "metadata": {},
   "outputs": [
    {
     "name": "stdout",
     "output_type": "stream",
     "text": [
      "Loading ./churn_prediction.csv\n",
      "Data has (28382, 20) shape\n"
     ]
    }
   ],
   "source": [
    "#df = dp.get_preprocessed_data()\n",
    "df = dp.get_preprocessed_data(ohe=False)"
   ]
  },
  {
   "cell_type": "code",
   "execution_count": 502,
   "id": "a6c345ff-78c6-43b8-a53d-cd6fa723856c",
   "metadata": {},
   "outputs": [
    {
     "data": {
      "text/html": [
       "<div>\n",
       "<style scoped>\n",
       "    .dataframe tbody tr th:only-of-type {\n",
       "        vertical-align: middle;\n",
       "    }\n",
       "\n",
       "    .dataframe tbody tr th {\n",
       "        vertical-align: top;\n",
       "    }\n",
       "\n",
       "    .dataframe thead th {\n",
       "        text-align: right;\n",
       "    }\n",
       "</style>\n",
       "<table border=\"1\" class=\"dataframe\">\n",
       "  <thead>\n",
       "    <tr style=\"text-align: right;\">\n",
       "      <th></th>\n",
       "      <th>vintage</th>\n",
       "      <th>age</th>\n",
       "      <th>gender</th>\n",
       "      <th>dependents</th>\n",
       "      <th>occupation</th>\n",
       "      <th>city</th>\n",
       "      <th>customer_nw_category</th>\n",
       "      <th>branch_code</th>\n",
       "      <th>days_since_last_transaction</th>\n",
       "      <th>current_balance</th>\n",
       "      <th>...</th>\n",
       "      <th>current_month_debit</th>\n",
       "      <th>previous_month_debit</th>\n",
       "      <th>current_month_balance</th>\n",
       "      <th>previous_month_balance</th>\n",
       "      <th>churn</th>\n",
       "      <th>balance_ratio</th>\n",
       "      <th>debit_ratio</th>\n",
       "      <th>credit_ratio</th>\n",
       "      <th>age_group</th>\n",
       "      <th>liquid_ratio</th>\n",
       "    </tr>\n",
       "    <tr>\n",
       "      <th>customer_id</th>\n",
       "      <th></th>\n",
       "      <th></th>\n",
       "      <th></th>\n",
       "      <th></th>\n",
       "      <th></th>\n",
       "      <th></th>\n",
       "      <th></th>\n",
       "      <th></th>\n",
       "      <th></th>\n",
       "      <th></th>\n",
       "      <th></th>\n",
       "      <th></th>\n",
       "      <th></th>\n",
       "      <th></th>\n",
       "      <th></th>\n",
       "      <th></th>\n",
       "      <th></th>\n",
       "      <th></th>\n",
       "      <th></th>\n",
       "      <th></th>\n",
       "      <th></th>\n",
       "    </tr>\n",
       "  </thead>\n",
       "  <tbody>\n",
       "    <tr>\n",
       "      <th>1</th>\n",
       "      <td>3135</td>\n",
       "      <td>66</td>\n",
       "      <td>Male</td>\n",
       "      <td>0.0</td>\n",
       "      <td>self_employed</td>\n",
       "      <td>187</td>\n",
       "      <td>2</td>\n",
       "      <td>755</td>\n",
       "      <td>224.0</td>\n",
       "      <td>1458.71</td>\n",
       "      <td>...</td>\n",
       "      <td>0.20</td>\n",
       "      <td>0.20</td>\n",
       "      <td>1458.71</td>\n",
       "      <td>1458.71</td>\n",
       "      <td>False</td>\n",
       "      <td>1.000000</td>\n",
       "      <td>1.000000</td>\n",
       "      <td>1.000000</td>\n",
       "      <td>(60, 100]</td>\n",
       "      <td>(-1, 0]</td>\n",
       "    </tr>\n",
       "    <tr>\n",
       "      <th>2</th>\n",
       "      <td>310</td>\n",
       "      <td>35</td>\n",
       "      <td>Male</td>\n",
       "      <td>0.0</td>\n",
       "      <td>self_employed</td>\n",
       "      <td>na</td>\n",
       "      <td>2</td>\n",
       "      <td>3214</td>\n",
       "      <td>60.0</td>\n",
       "      <td>5390.37</td>\n",
       "      <td>...</td>\n",
       "      <td>5486.27</td>\n",
       "      <td>100.56</td>\n",
       "      <td>6496.78</td>\n",
       "      <td>8787.61</td>\n",
       "      <td>False</td>\n",
       "      <td>0.746357</td>\n",
       "      <td>54.557180</td>\n",
       "      <td>1.000000</td>\n",
       "      <td>(30, 60]</td>\n",
       "      <td>(0, 1]</td>\n",
       "    </tr>\n",
       "    <tr>\n",
       "      <th>4</th>\n",
       "      <td>2356</td>\n",
       "      <td>31</td>\n",
       "      <td>Male</td>\n",
       "      <td>0.0</td>\n",
       "      <td>salaried</td>\n",
       "      <td>146</td>\n",
       "      <td>2</td>\n",
       "      <td>41</td>\n",
       "      <td>999.0</td>\n",
       "      <td>3913.16</td>\n",
       "      <td>...</td>\n",
       "      <td>6046.73</td>\n",
       "      <td>259.23</td>\n",
       "      <td>5006.28</td>\n",
       "      <td>5070.14</td>\n",
       "      <td>False</td>\n",
       "      <td>0.860882</td>\n",
       "      <td>23.325734</td>\n",
       "      <td>1.000000</td>\n",
       "      <td>(30, 60]</td>\n",
       "      <td>(0, 1]</td>\n",
       "    </tr>\n",
       "    <tr>\n",
       "      <th>5</th>\n",
       "      <td>478</td>\n",
       "      <td>90</td>\n",
       "      <td>na</td>\n",
       "      <td>0.0</td>\n",
       "      <td>self_employed</td>\n",
       "      <td>1020</td>\n",
       "      <td>2</td>\n",
       "      <td>582</td>\n",
       "      <td>147.0</td>\n",
       "      <td>2291.91</td>\n",
       "      <td>...</td>\n",
       "      <td>0.47</td>\n",
       "      <td>2143.33</td>\n",
       "      <td>2291.91</td>\n",
       "      <td>1669.79</td>\n",
       "      <td>True</td>\n",
       "      <td>1.000000</td>\n",
       "      <td>0.000219</td>\n",
       "      <td>1.000000</td>\n",
       "      <td>(60, 100]</td>\n",
       "      <td>(-1, 0]</td>\n",
       "    </tr>\n",
       "    <tr>\n",
       "      <th>6</th>\n",
       "      <td>2531</td>\n",
       "      <td>42</td>\n",
       "      <td>Male</td>\n",
       "      <td>2.0</td>\n",
       "      <td>self_employed</td>\n",
       "      <td>1494</td>\n",
       "      <td>3</td>\n",
       "      <td>388</td>\n",
       "      <td>58.0</td>\n",
       "      <td>927.72</td>\n",
       "      <td>...</td>\n",
       "      <td>588.62</td>\n",
       "      <td>1538.06</td>\n",
       "      <td>1157.15</td>\n",
       "      <td>1677.16</td>\n",
       "      <td>True</td>\n",
       "      <td>0.825522</td>\n",
       "      <td>0.382703</td>\n",
       "      <td>0.000462</td>\n",
       "      <td>(30, 60]</td>\n",
       "      <td>(-1, 0]</td>\n",
       "    </tr>\n",
       "    <tr>\n",
       "      <th>...</th>\n",
       "      <td>...</td>\n",
       "      <td>...</td>\n",
       "      <td>...</td>\n",
       "      <td>...</td>\n",
       "      <td>...</td>\n",
       "      <td>...</td>\n",
       "      <td>...</td>\n",
       "      <td>...</td>\n",
       "      <td>...</td>\n",
       "      <td>...</td>\n",
       "      <td>...</td>\n",
       "      <td>...</td>\n",
       "      <td>...</td>\n",
       "      <td>...</td>\n",
       "      <td>...</td>\n",
       "      <td>...</td>\n",
       "      <td>...</td>\n",
       "      <td>...</td>\n",
       "      <td>...</td>\n",
       "      <td>...</td>\n",
       "      <td>...</td>\n",
       "    </tr>\n",
       "    <tr>\n",
       "      <th>30297</th>\n",
       "      <td>1845</td>\n",
       "      <td>10</td>\n",
       "      <td>Female</td>\n",
       "      <td>0.0</td>\n",
       "      <td>student</td>\n",
       "      <td>1020</td>\n",
       "      <td>2</td>\n",
       "      <td>1207</td>\n",
       "      <td>70.0</td>\n",
       "      <td>1076.43</td>\n",
       "      <td>...</td>\n",
       "      <td>0.30</td>\n",
       "      <td>0.30</td>\n",
       "      <td>1076.43</td>\n",
       "      <td>1076.43</td>\n",
       "      <td>False</td>\n",
       "      <td>1.000000</td>\n",
       "      <td>1.000000</td>\n",
       "      <td>1.000000</td>\n",
       "      <td>(0, 18]</td>\n",
       "      <td>(-1, 0]</td>\n",
       "    </tr>\n",
       "    <tr>\n",
       "      <th>30298</th>\n",
       "      <td>4919</td>\n",
       "      <td>34</td>\n",
       "      <td>Female</td>\n",
       "      <td>0.0</td>\n",
       "      <td>self_employed</td>\n",
       "      <td>1046</td>\n",
       "      <td>2</td>\n",
       "      <td>223</td>\n",
       "      <td>14.0</td>\n",
       "      <td>3844.10</td>\n",
       "      <td>...</td>\n",
       "      <td>901.00</td>\n",
       "      <td>1014.07</td>\n",
       "      <td>3738.54</td>\n",
       "      <td>3690.32</td>\n",
       "      <td>False</td>\n",
       "      <td>0.918739</td>\n",
       "      <td>0.888499</td>\n",
       "      <td>0.746725</td>\n",
       "      <td>(30, 60]</td>\n",
       "      <td>(-1, 0]</td>\n",
       "    </tr>\n",
       "    <tr>\n",
       "      <th>30299</th>\n",
       "      <td>297</td>\n",
       "      <td>47</td>\n",
       "      <td>Male</td>\n",
       "      <td>0.0</td>\n",
       "      <td>salaried</td>\n",
       "      <td>1096</td>\n",
       "      <td>2</td>\n",
       "      <td>588</td>\n",
       "      <td>0.0</td>\n",
       "      <td>65511.97</td>\n",
       "      <td>...</td>\n",
       "      <td>168.23</td>\n",
       "      <td>71.80</td>\n",
       "      <td>61078.50</td>\n",
       "      <td>57564.24</td>\n",
       "      <td>True</td>\n",
       "      <td>1.000999</td>\n",
       "      <td>2.343036</td>\n",
       "      <td>1.201846</td>\n",
       "      <td>(30, 60]</td>\n",
       "      <td>(-1, 0]</td>\n",
       "    </tr>\n",
       "    <tr>\n",
       "      <th>30300</th>\n",
       "      <td>2585</td>\n",
       "      <td>50</td>\n",
       "      <td>Male</td>\n",
       "      <td>3.0</td>\n",
       "      <td>self_employed</td>\n",
       "      <td>1219</td>\n",
       "      <td>3</td>\n",
       "      <td>274</td>\n",
       "      <td>999.0</td>\n",
       "      <td>1625.55</td>\n",
       "      <td>...</td>\n",
       "      <td>0.20</td>\n",
       "      <td>0.20</td>\n",
       "      <td>1625.55</td>\n",
       "      <td>1625.55</td>\n",
       "      <td>False</td>\n",
       "      <td>1.000000</td>\n",
       "      <td>1.000000</td>\n",
       "      <td>1.000000</td>\n",
       "      <td>(30, 60]</td>\n",
       "      <td>(-1, 0]</td>\n",
       "    </tr>\n",
       "    <tr>\n",
       "      <th>30301</th>\n",
       "      <td>2349</td>\n",
       "      <td>18</td>\n",
       "      <td>Male</td>\n",
       "      <td>0.0</td>\n",
       "      <td>student</td>\n",
       "      <td>1232</td>\n",
       "      <td>2</td>\n",
       "      <td>474</td>\n",
       "      <td>59.0</td>\n",
       "      <td>2107.05</td>\n",
       "      <td>...</td>\n",
       "      <td>714.40</td>\n",
       "      <td>1094.09</td>\n",
       "      <td>2402.62</td>\n",
       "      <td>3260.58</td>\n",
       "      <td>True</td>\n",
       "      <td>0.851588</td>\n",
       "      <td>0.652963</td>\n",
       "      <td>0.014785</td>\n",
       "      <td>(0, 18]</td>\n",
       "      <td>(-1, 0]</td>\n",
       "    </tr>\n",
       "  </tbody>\n",
       "</table>\n",
       "<p>28382 rows × 25 columns</p>\n",
       "</div>"
      ],
      "text/plain": [
       "             vintage  age  gender  dependents     occupation  city  \\\n",
       "customer_id                                                          \n",
       "1               3135   66    Male         0.0  self_employed   187   \n",
       "2                310   35    Male         0.0  self_employed    na   \n",
       "4               2356   31    Male         0.0       salaried   146   \n",
       "5                478   90      na         0.0  self_employed  1020   \n",
       "6               2531   42    Male         2.0  self_employed  1494   \n",
       "...              ...  ...     ...         ...            ...   ...   \n",
       "30297           1845   10  Female         0.0        student  1020   \n",
       "30298           4919   34  Female         0.0  self_employed  1046   \n",
       "30299            297   47    Male         0.0       salaried  1096   \n",
       "30300           2585   50    Male         3.0  self_employed  1219   \n",
       "30301           2349   18    Male         0.0        student  1232   \n",
       "\n",
       "            customer_nw_category branch_code  days_since_last_transaction  \\\n",
       "customer_id                                                                 \n",
       "1                              2         755                        224.0   \n",
       "2                              2        3214                         60.0   \n",
       "4                              2          41                        999.0   \n",
       "5                              2         582                        147.0   \n",
       "6                              3         388                         58.0   \n",
       "...                          ...         ...                          ...   \n",
       "30297                          2        1207                         70.0   \n",
       "30298                          2         223                         14.0   \n",
       "30299                          2         588                          0.0   \n",
       "30300                          3         274                        999.0   \n",
       "30301                          2         474                         59.0   \n",
       "\n",
       "             current_balance  ...  current_month_debit  previous_month_debit  \\\n",
       "customer_id                   ...                                              \n",
       "1                    1458.71  ...                 0.20                  0.20   \n",
       "2                    5390.37  ...              5486.27                100.56   \n",
       "4                    3913.16  ...              6046.73                259.23   \n",
       "5                    2291.91  ...                 0.47               2143.33   \n",
       "6                     927.72  ...               588.62               1538.06   \n",
       "...                      ...  ...                  ...                   ...   \n",
       "30297                1076.43  ...                 0.30                  0.30   \n",
       "30298                3844.10  ...               901.00               1014.07   \n",
       "30299               65511.97  ...               168.23                 71.80   \n",
       "30300                1625.55  ...                 0.20                  0.20   \n",
       "30301                2107.05  ...               714.40               1094.09   \n",
       "\n",
       "             current_month_balance  previous_month_balance  churn  \\\n",
       "customer_id                                                         \n",
       "1                          1458.71                 1458.71  False   \n",
       "2                          6496.78                 8787.61  False   \n",
       "4                          5006.28                 5070.14  False   \n",
       "5                          2291.91                 1669.79   True   \n",
       "6                          1157.15                 1677.16   True   \n",
       "...                            ...                     ...    ...   \n",
       "30297                      1076.43                 1076.43  False   \n",
       "30298                      3738.54                 3690.32  False   \n",
       "30299                     61078.50                57564.24   True   \n",
       "30300                      1625.55                 1625.55  False   \n",
       "30301                      2402.62                 3260.58   True   \n",
       "\n",
       "             balance_ratio  debit_ratio  credit_ratio  age_group  liquid_ratio  \n",
       "customer_id                                                                     \n",
       "1                 1.000000     1.000000      1.000000  (60, 100]       (-1, 0]  \n",
       "2                 0.746357    54.557180      1.000000   (30, 60]        (0, 1]  \n",
       "4                 0.860882    23.325734      1.000000   (30, 60]        (0, 1]  \n",
       "5                 1.000000     0.000219      1.000000  (60, 100]       (-1, 0]  \n",
       "6                 0.825522     0.382703      0.000462   (30, 60]       (-1, 0]  \n",
       "...                    ...          ...           ...        ...           ...  \n",
       "30297             1.000000     1.000000      1.000000    (0, 18]       (-1, 0]  \n",
       "30298             0.918739     0.888499      0.746725   (30, 60]       (-1, 0]  \n",
       "30299             1.000999     2.343036      1.201846   (30, 60]       (-1, 0]  \n",
       "30300             1.000000     1.000000      1.000000   (30, 60]       (-1, 0]  \n",
       "30301             0.851588     0.652963      0.014785    (0, 18]       (-1, 0]  \n",
       "\n",
       "[28382 rows x 25 columns]"
      ]
     },
     "execution_count": 502,
     "metadata": {},
     "output_type": "execute_result"
    }
   ],
   "source": [
    "df"
   ]
  },
  {
   "cell_type": "markdown",
   "id": "e6ff8524-e559-4241-a2a8-0a5c07c15527",
   "metadata": {},
   "source": [
    "# Explore Models"
   ]
  },
  {
   "cell_type": "code",
   "execution_count": 550,
   "id": "58274213-188d-462c-a77b-8f4b87d12a1d",
   "metadata": {},
   "outputs": [
    {
     "name": "stdout",
     "output_type": "stream",
     "text": [
      "input data has 28382 rows\n",
      "Subsetting Columns\n",
      "One Hot Encoding\n",
      "output data has 21286 + 7096 rows\n"
     ]
    }
   ],
   "source": [
    "select_cols = ['occupation', #'customer_nw_category', \n",
    "               'days_since_last_transaction', 'liquid_ratio',\n",
    "               'current_balance', 'previous_month_end_balance',\n",
    "              'average_monthly_balance_prevQ', 'average_monthly_balance_prevQ2',\n",
    "              'current_month_credit', 'current_month_debit', 'previous_month_credit', 'previous_month_debit']\n",
    "x,y,xval,yval = dp.split_data(df, target = 'churn', include_cols=select_cols, validation_split=0.25, ohe = True)\n",
    "x,xval = scale_x(x,xval)"
   ]
  },
  {
   "cell_type": "markdown",
   "id": "faffccd6-e9cb-4661-ac0a-f6dd6272ff19",
   "metadata": {},
   "source": [
    "## Random Prediction"
   ]
  },
  {
   "cell_type": "code",
   "execution_count": 537,
   "id": "475b3068-a641-4845-a05f-1e7a5a57cfdc",
   "metadata": {},
   "outputs": [
    {
     "data": {
      "text/html": [
       "<div>\n",
       "<style scoped>\n",
       "    .dataframe tbody tr th:only-of-type {\n",
       "        vertical-align: middle;\n",
       "    }\n",
       "\n",
       "    .dataframe tbody tr th {\n",
       "        vertical-align: top;\n",
       "    }\n",
       "\n",
       "    .dataframe thead th {\n",
       "        text-align: right;\n",
       "    }\n",
       "</style>\n",
       "<table border=\"1\" class=\"dataframe\">\n",
       "  <thead>\n",
       "    <tr style=\"text-align: right;\">\n",
       "      <th>churn</th>\n",
       "      <th>False</th>\n",
       "      <th>True</th>\n",
       "    </tr>\n",
       "    <tr>\n",
       "      <th>row_0</th>\n",
       "      <th></th>\n",
       "      <th></th>\n",
       "    </tr>\n",
       "  </thead>\n",
       "  <tbody>\n",
       "    <tr>\n",
       "      <th>0</th>\n",
       "      <td>5781</td>\n",
       "      <td>1315</td>\n",
       "    </tr>\n",
       "  </tbody>\n",
       "</table>\n",
       "</div>"
      ],
      "text/plain": [
       "churn  False  True\n",
       "row_0             \n",
       "0       5781  1315"
      ]
     },
     "execution_count": 537,
     "metadata": {},
     "output_type": "execute_result"
    }
   ],
   "source": [
    "base_pred = [1 if x == 1 else 0 for x in xval['occupation_student']]\n",
    "pd.crosstab(base_pred, yval)"
   ]
  },
  {
   "cell_type": "code",
   "execution_count": 538,
   "id": "b4a46978-7755-4174-a54b-ddb871fbb9d3",
   "metadata": {},
   "outputs": [
    {
     "name": "stdout",
     "output_type": "stream",
     "text": [
      "Accuracy: 0.814684329199549, Precision: 0.0, Recall: 0.0, F1: 0.0\n"
     ]
    },
    {
     "name": "stderr",
     "output_type": "stream",
     "text": [
      "/opt/homebrew/Caskroom/miniforge/base/lib/python3.9/site-packages/sklearn/metrics/_classification.py:1327: UndefinedMetricWarning: Precision and F-score are ill-defined and being set to 0.0 in labels with no predicted samples. Use `zero_division` parameter to control this behavior.\n",
      "  _warn_prf(average, modifier, msg_start, len(result))\n",
      "/opt/homebrew/Caskroom/miniforge/base/lib/python3.9/site-packages/sklearn/metrics/_classification.py:1327: UndefinedMetricWarning: Precision and F-score are ill-defined and being set to 0.0 in labels with no predicted samples. Use `zero_division` parameter to control this behavior.\n",
      "  _warn_prf(average, modifier, msg_start, len(result))\n",
      "/opt/homebrew/Caskroom/miniforge/base/lib/python3.9/site-packages/sklearn/metrics/_classification.py:1327: UndefinedMetricWarning: Precision and F-score are ill-defined and being set to 0.0 in labels with no predicted samples. Use `zero_division` parameter to control this behavior.\n",
      "  _warn_prf(average, modifier, msg_start, len(result))\n",
      "/opt/homebrew/Caskroom/miniforge/base/lib/python3.9/site-packages/sklearn/metrics/_classification.py:1327: UndefinedMetricWarning: Precision is ill-defined and being set to 0.0 due to no predicted samples. Use `zero_division` parameter to control this behavior.\n",
      "  _warn_prf(average, modifier, msg_start, len(result))\n"
     ]
    },
    {
     "data": {
      "text/plain": [
       "({'False': {'precision': 0.814684329199549,\n",
       "   'recall': 1.0,\n",
       "   'f1-score': 0.8978799409800419,\n",
       "   'support': 5781},\n",
       "  'True': {'precision': 0.0, 'recall': 0.0, 'f1-score': 0.0, 'support': 1315},\n",
       "  'accuracy': 0.814684329199549,\n",
       "  'macro avg': {'precision': 0.4073421645997745,\n",
       "   'recall': 0.5,\n",
       "   'f1-score': 0.44893997049002093,\n",
       "   'support': 7096},\n",
       "  'weighted avg': {'precision': 0.6637105562433192,\n",
       "   'recall': 0.814684329199549,\n",
       "   'f1-score': 0.7314887174190562,\n",
       "   'support': 7096}},\n",
       " [0.814684329199549, 0.5, 0.0, 0.0, 0.0])"
      ]
     },
     "execution_count": 538,
     "metadata": {},
     "output_type": "execute_result"
    },
    {
     "data": {
      "image/png": "[encoded data removed]",
      "text/plain": [
       "<Figure size 432x288 with 1 Axes>"
      ]
     },
     "metadata": {
      "needs_background": "light"
     },
     "output_type": "display_data"
    }
   ],
   "source": [
    "evaluate_prediction(yval, base_pred, base_pred)"
   ]
  },
  {
   "cell_type": "markdown",
   "id": "09b0dc03-7e59-45d6-9c21-48f4962f3075",
   "metadata": {},
   "source": [
    "## Logistic Regression"
   ]
  },
  {
   "cell_type": "code",
   "execution_count": 539,
   "id": "ce93a992-e8e6-44b9-b26a-3db18824e44f",
   "metadata": {},
   "outputs": [
    {
     "data": {
      "text/plain": [
       "(0.8257070374894296, 0.8244081172491544)"
      ]
     },
     "execution_count": 539,
     "metadata": {},
     "output_type": "execute_result"
    }
   ],
   "source": [
    "model = log_reg()\n",
    "model.fit(x,y)\n",
    "model.score(x,y), model.score(xval, yval)"
   ]
  },
  {
   "cell_type": "code",
   "execution_count": 540,
   "id": "e90e141b-0e0f-4550-90c6-41863eb5f242",
   "metadata": {},
   "outputs": [],
   "source": [
    "preds = model.predict(xval)\n",
    "probs = model.predict_proba(xval)"
   ]
  },
  {
   "cell_type": "code",
   "execution_count": 541,
   "id": "e48fb0ff-b717-4216-aab4-fda7d4f7b5ba",
   "metadata": {},
   "outputs": [
    {
     "name": "stdout",
     "output_type": "stream",
     "text": [
      "Accuracy: 0.8244081172491544, Precision: 0.6927374301675978, Recall: 0.09429657794676806, F1: 0.16599732262382866\n"
     ]
    },
    {
     "data": {
      "image/png": "[encoded data removed]",
      "text/plain": [
       "<Figure size 432x288 with 1 Axes>"
      ]
     },
     "metadata": {
      "needs_background": "light"
     },
     "output_type": "display_data"
    }
   ],
   "source": [
    "report, errors, preds_lr = evaluate_predictions(yval, preds, probs[:,1])"
   ]
  },
  {
   "cell_type": "code",
   "execution_count": 542,
   "id": "a2e12a60-95a3-4d11-899f-ef47d3cab76e",
   "metadata": {},
   "outputs": [],
   "source": [
    "cm = metrics.confusion_matrix(yval, preds)\n",
    "disp = metrics. ConfusionMatrixDisplay(confusion_matrix=cm)"
   ]
  },
  {
   "cell_type": "code",
   "execution_count": 543,
   "id": "56e80bf6-129c-4aa6-ac73-cdc5a09afe88",
   "metadata": {},
   "outputs": [
    {
     "data": {
      "text/plain": [
       "<sklearn.metrics._plot.confusion_matrix.ConfusionMatrixDisplay at 0x284990250>"
      ]
     },
     "execution_count": 543,
     "metadata": {},
     "output_type": "execute_result"
    },
    {
     "data": {
      "image/png": "[encoded data removed]",
      "text/plain": [
       "<Figure size 432x288 with 2 Axes>"
      ]
     },
     "metadata": {
      "needs_background": "light"
     },
     "output_type": "display_data"
    }
   ],
   "source": [
    "disp.plot()"
   ]
  },
  {
   "cell_type": "code",
   "execution_count": 544,
   "id": "633d813c-4969-4459-a22b-37593befb076",
   "metadata": {},
   "outputs": [
    {
     "data": {
      "text/html": [
       "<div>\n",
       "<style scoped>\n",
       "    .dataframe tbody tr th:only-of-type {\n",
       "        vertical-align: middle;\n",
       "    }\n",
       "\n",
       "    .dataframe tbody tr th {\n",
       "        vertical-align: top;\n",
       "    }\n",
       "\n",
       "    .dataframe thead th {\n",
       "        text-align: right;\n",
       "    }\n",
       "</style>\n",
       "<table border=\"1\" class=\"dataframe\">\n",
       "  <thead>\n",
       "    <tr style=\"text-align: right;\">\n",
       "      <th></th>\n",
       "      <th>coefficient</th>\n",
       "    </tr>\n",
       "  </thead>\n",
       "  <tbody>\n",
       "    <tr>\n",
       "      <th>average_monthly_balance_prevQ</th>\n",
       "      <td>4.620720</td>\n",
       "    </tr>\n",
       "    <tr>\n",
       "      <th>previous_month_debit</th>\n",
       "      <td>0.185274</td>\n",
       "    </tr>\n",
       "    <tr>\n",
       "      <th>liquid_ratio_(0, 1]</th>\n",
       "      <td>0.164934</td>\n",
       "    </tr>\n",
       "    <tr>\n",
       "      <th>liquid_ratio_(2, 100]</th>\n",
       "      <td>0.130074</td>\n",
       "    </tr>\n",
       "    <tr>\n",
       "      <th>previous_month_end_balance</th>\n",
       "      <td>0.127533</td>\n",
       "    </tr>\n",
       "    <tr>\n",
       "      <th>liquid_ratio_(1, 2]</th>\n",
       "      <td>0.101046</td>\n",
       "    </tr>\n",
       "    <tr>\n",
       "      <th>average_monthly_balance_prevQ2</th>\n",
       "      <td>0.094839</td>\n",
       "    </tr>\n",
       "    <tr>\n",
       "      <th>occupation_self_employed</th>\n",
       "      <td>0.044956</td>\n",
       "    </tr>\n",
       "    <tr>\n",
       "      <th>occupation_student</th>\n",
       "      <td>0.017505</td>\n",
       "    </tr>\n",
       "    <tr>\n",
       "      <th>liquid_ratio_(-100000, -2]</th>\n",
       "      <td>0.000000</td>\n",
       "    </tr>\n",
       "    <tr>\n",
       "      <th>liquid_ratio_(-2, -1]</th>\n",
       "      <td>0.000000</td>\n",
       "    </tr>\n",
       "    <tr>\n",
       "      <th>occupation_salaried</th>\n",
       "      <td>-0.029770</td>\n",
       "    </tr>\n",
       "    <tr>\n",
       "      <th>current_month_credit</th>\n",
       "      <td>-0.038484</td>\n",
       "    </tr>\n",
       "    <tr>\n",
       "      <th>occupation_retired</th>\n",
       "      <td>-0.044250</td>\n",
       "    </tr>\n",
       "    <tr>\n",
       "      <th>occupation_company</th>\n",
       "      <td>-0.060738</td>\n",
       "    </tr>\n",
       "    <tr>\n",
       "      <th>current_month_debit</th>\n",
       "      <td>-0.069184</td>\n",
       "    </tr>\n",
       "    <tr>\n",
       "      <th>liquid_ratio_(100, 10000]</th>\n",
       "      <td>-0.089700</td>\n",
       "    </tr>\n",
       "    <tr>\n",
       "      <th>previous_month_credit</th>\n",
       "      <td>-0.162842</td>\n",
       "    </tr>\n",
       "    <tr>\n",
       "      <th>days_since_last_transaction</th>\n",
       "      <td>-0.176464</td>\n",
       "    </tr>\n",
       "    <tr>\n",
       "      <th>liquid_ratio_(-1, 0]</th>\n",
       "      <td>-0.246528</td>\n",
       "    </tr>\n",
       "    <tr>\n",
       "      <th>current_balance</th>\n",
       "      <td>-5.732832</td>\n",
       "    </tr>\n",
       "  </tbody>\n",
       "</table>\n",
       "</div>"
      ],
      "text/plain": [
       "                                coefficient\n",
       "average_monthly_balance_prevQ      4.620720\n",
       "previous_month_debit               0.185274\n",
       "liquid_ratio_(0, 1]                0.164934\n",
       "liquid_ratio_(2, 100]              0.130074\n",
       "previous_month_end_balance         0.127533\n",
       "liquid_ratio_(1, 2]                0.101046\n",
       "average_monthly_balance_prevQ2     0.094839\n",
       "occupation_self_employed           0.044956\n",
       "occupation_student                 0.017505\n",
       "liquid_ratio_(-100000, -2]         0.000000\n",
       "liquid_ratio_(-2, -1]              0.000000\n",
       "occupation_salaried               -0.029770\n",
       "current_month_credit              -0.038484\n",
       "occupation_retired                -0.044250\n",
       "occupation_company                -0.060738\n",
       "current_month_debit               -0.069184\n",
       "liquid_ratio_(100, 10000]         -0.089700\n",
       "previous_month_credit             -0.162842\n",
       "days_since_last_transaction       -0.176464\n",
       "liquid_ratio_(-1, 0]              -0.246528\n",
       "current_balance                   -5.732832"
      ]
     },
     "execution_count": 544,
     "metadata": {},
     "output_type": "execute_result"
    }
   ],
   "source": [
    "#model.feature_names_in_, model.coef_\n",
    "coef_df = pd.DataFrame(model.coef_[0], index = list(model.feature_names_in_), \n",
    "                       columns = ['coefficient']).sort_values('coefficient', ascending=False)\n",
    "coef_df"
   ]
  },
  {
   "cell_type": "markdown",
   "id": "11b51145-a42a-4864-be02-48ca7f0b90a2",
   "metadata": {},
   "source": [
    "## StatsModel"
   ]
  },
  {
   "cell_type": "code",
   "execution_count": 590,
   "id": "cd6467ee-94fe-4ed1-8151-60b1df9b378f",
   "metadata": {},
   "outputs": [
    {
     "name": "stdout",
     "output_type": "stream",
     "text": [
      "Warning: Maximum number of iterations has been exceeded.\n",
      "         Current function value: 0.431927\n",
      "         Iterations: 35\n",
      "         Function evaluations: 36\n",
      "         Gradient evaluations: 36\n"
     ]
    },
    {
     "name": "stderr",
     "output_type": "stream",
     "text": [
      "/opt/homebrew/Caskroom/miniforge/base/lib/python3.9/site-packages/statsmodels/base/model.py:592: HessianInversionWarning: Inverting hessian failed, no bse or cov_params available\n",
      "  warnings.warn('Inverting hessian failed, no bse or cov_params '\n",
      "/opt/homebrew/Caskroom/miniforge/base/lib/python3.9/site-packages/statsmodels/base/model.py:604: ConvergenceWarning: Maximum Likelihood optimization failed to converge. Check mle_retvals\n",
      "  warnings.warn(\"Maximum Likelihood optimization failed to \"\n"
     ]
    },
    {
     "data": {
      "text/plain": [
       "<statsmodels.discrete.discrete_model.BinaryResultsWrapper at 0x159ee0160>"
      ]
     },
     "execution_count": 590,
     "metadata": {},
     "output_type": "execute_result"
    }
   ],
   "source": [
    "# building the model and fitting the data\n",
    "x['intercept'] = 1\n",
    "sm_reg = sm.Logit(y, x).fit(method='bfgs')\n",
    "sm_reg"
   ]
  },
  {
   "cell_type": "code",
   "execution_count": 591,
   "id": "ef4939b7-31a7-4439-ba3c-79eaef327471",
   "metadata": {},
   "outputs": [
    {
     "name": "stdout",
     "output_type": "stream",
     "text": [
      "                           Logit Regression Results                           \n",
      "==============================================================================\n",
      "Dep. Variable:                  churn   No. Observations:                25543\n",
      "Model:                          Logit   Df Residuals:                    25521\n",
      "Method:                           MLE   Df Model:                           21\n",
      "Date:                Thu, 23 Feb 2023   Pseudo R-squ.:                 0.09900\n",
      "Time:                        02:40:50   Log-Likelihood:                -11033.\n",
      "converged:                      False   LL-Null:                       -12245.\n",
      "Covariance Type:            nonrobust   LLR p-value:                     0.000\n",
      "==================================================================================================\n",
      "                                     coef    std err          z      P>|z|      [0.025      0.975]\n",
      "--------------------------------------------------------------------------------------------------\n",
      "days_since_last_transaction       -0.2086        nan        nan        nan         nan         nan\n",
      "vintage                           -0.1939        nan        nan        nan         nan         nan\n",
      "dependents                         0.0176        nan        nan        nan         nan         nan\n",
      "current_balance                   -4.2979        nan        nan        nan         nan         nan\n",
      "previous_month_end_balance         0.2143        nan        nan        nan         nan         nan\n",
      "average_monthly_balance_prevQ      2.1874        nan        nan        nan         nan         nan\n",
      "average_monthly_balance_prevQ2     1.0505        nan        nan        nan         nan         nan\n",
      "current_month_credit               0.0421        nan        nan        nan         nan         nan\n",
      "current_month_debit               -0.1126        nan        nan        nan         nan         nan\n",
      "previous_month_credit             -0.2373        nan        nan        nan         nan         nan\n",
      "previous_month_debit               0.2444        nan        nan        nan         nan         nan\n",
      "credit_ratio                       0.0299        nan        nan        nan         nan         nan\n",
      "age_group_(18, 25]                 0.0581        nan        nan        nan         nan         nan\n",
      "age_group_(25, 30]                 0.0670        nan        nan        nan         nan         nan\n",
      "age_group_(30, 60]                 0.1036        nan        nan        nan         nan         nan\n",
      "age_group_(60, 100]                0.0763        nan        nan        nan         nan         nan\n",
      "liquid_ratio_(-2, -1]                   0        nan        nan        nan         nan         nan\n",
      "liquid_ratio_(-1, 0]              -0.2461        nan        nan        nan         nan         nan\n",
      "liquid_ratio_(0, 1]                0.1733        nan        nan        nan         nan         nan\n",
      "liquid_ratio_(1, 2]                0.1074        nan        nan        nan         nan         nan\n",
      "liquid_ratio_(2, 100]              0.1282        nan        nan        nan         nan         nan\n",
      "liquid_ratio_(100, 10000]         -0.3924        nan        nan        nan         nan         nan\n",
      "intercept                         -1.6884        nan        nan        nan         nan         nan\n",
      "==================================================================================================\n"
     ]
    }
   ],
   "source": [
    "print(sm_reg.summary())"
   ]
  },
  {
   "cell_type": "markdown",
   "id": "224ac4b8-607d-41de-8658-faf20479c756",
   "metadata": {},
   "source": [
    "## Expand Model"
   ]
  },
  {
   "cell_type": "code",
   "execution_count": 592,
   "id": "06730eea-9594-479c-8d23-c20f5c00d361",
   "metadata": {},
   "outputs": [
    {
     "name": "stdout",
     "output_type": "stream",
     "text": [
      "input data has 28382 rows\n",
      "Subsetting Columns\n",
      "One Hot Encoding\n",
      "output data has 25543 + 2839 rows\n"
     ]
    }
   ],
   "source": [
    "select_cols = ['age_group','days_since_last_transaction','vintage','dependents',\n",
    "               'current_balance', 'previous_month_end_balance','liquid_ratio',\n",
    "              'average_monthly_balance_prevQ', 'average_monthly_balance_prevQ2',\n",
    "              'current_month_credit', 'current_month_debit', \n",
    "               'previous_month_credit', 'previous_month_debit', 'credit_ratio']\n",
    "x,y,xval,yval = dp.split_data(df, target = 'churn', include_cols=select_cols, validation_split=0.1, ohe = True)\n",
    "x,xval = scale_x(x,xval)"
   ]
  },
  {
   "cell_type": "code",
   "execution_count": 593,
   "id": "1b1f4a20-938a-4de7-a3b4-02e31e8697cd",
   "metadata": {},
   "outputs": [
    {
     "name": "stdout",
     "output_type": "stream",
     "text": [
      "Accuracy: 0.8221204649524481, Precision: 0.647887323943662, Recall: 0.08745247148288973, F1: 0.15410385259631493\n"
     ]
    },
    {
     "data": {
      "image/png": "[encoded data removed]",
      "text/plain": [
       "<Figure size 432x288 with 1 Axes>"
      ]
     },
     "metadata": {
      "needs_background": "light"
     },
     "output_type": "display_data"
    }
   ],
   "source": [
    "model = log_reg()\n",
    "model.fit(x,y)\n",
    "model.score(x,y), model.score(xval, yval)\n",
    "preds = model.predict(xval)\n",
    "probs = model.predict_proba(xval)\n",
    "report, errors, preds_lr2 = evaluate_predictions(yval,preds, probs[:,1])"
   ]
  },
  {
   "cell_type": "code",
   "execution_count": 594,
   "id": "4beeb595-a05d-42fd-a6dd-93df7d58db7d",
   "metadata": {},
   "outputs": [
    {
     "name": "stdout",
     "output_type": "stream",
     "text": [
      "Warning: Maximum number of iterations has been exceeded.\n",
      "         Current function value: 0.431927\n",
      "         Iterations: 35\n",
      "         Function evaluations: 36\n",
      "         Gradient evaluations: 36\n",
      "                           Logit Regression Results                           \n",
      "==============================================================================\n",
      "Dep. Variable:                  churn   No. Observations:                25543\n",
      "Model:                          Logit   Df Residuals:                    25521\n",
      "Method:                           MLE   Df Model:                           21\n",
      "Date:                Thu, 23 Feb 2023   Pseudo R-squ.:                 0.09900\n",
      "Time:                        02:41:19   Log-Likelihood:                -11033.\n",
      "converged:                      False   LL-Null:                       -12245.\n",
      "Covariance Type:            nonrobust   LLR p-value:                     0.000\n",
      "==================================================================================================\n",
      "                                     coef    std err          z      P>|z|      [0.025      0.975]\n",
      "--------------------------------------------------------------------------------------------------\n",
      "days_since_last_transaction       -0.2086        nan        nan        nan         nan         nan\n",
      "vintage                           -0.1939        nan        nan        nan         nan         nan\n",
      "dependents                         0.0176        nan        nan        nan         nan         nan\n",
      "current_balance                   -4.2979        nan        nan        nan         nan         nan\n",
      "previous_month_end_balance         0.2143        nan        nan        nan         nan         nan\n",
      "average_monthly_balance_prevQ      2.1874        nan        nan        nan         nan         nan\n",
      "average_monthly_balance_prevQ2     1.0505        nan        nan        nan         nan         nan\n",
      "current_month_credit               0.0421        nan        nan        nan         nan         nan\n",
      "current_month_debit               -0.1126        nan        nan        nan         nan         nan\n",
      "previous_month_credit             -0.2373        nan        nan        nan         nan         nan\n",
      "previous_month_debit               0.2444        nan        nan        nan         nan         nan\n",
      "credit_ratio                       0.0299        nan        nan        nan         nan         nan\n",
      "age_group_(18, 25]                 0.0581        nan        nan        nan         nan         nan\n",
      "age_group_(25, 30]                 0.0670        nan        nan        nan         nan         nan\n",
      "age_group_(30, 60]                 0.1036        nan        nan        nan         nan         nan\n",
      "age_group_(60, 100]                0.0763        nan        nan        nan         nan         nan\n",
      "liquid_ratio_(-2, -1]                   0        nan        nan        nan         nan         nan\n",
      "liquid_ratio_(-1, 0]              -0.2461        nan        nan        nan         nan         nan\n",
      "liquid_ratio_(0, 1]                0.1733        nan        nan        nan         nan         nan\n",
      "liquid_ratio_(1, 2]                0.1074        nan        nan        nan         nan         nan\n",
      "liquid_ratio_(2, 100]              0.1282        nan        nan        nan         nan         nan\n",
      "liquid_ratio_(100, 10000]         -0.3924        nan        nan        nan         nan         nan\n",
      "intercept                         -1.6884        nan        nan        nan         nan         nan\n",
      "==================================================================================================\n"
     ]
    },
    {
     "name": "stderr",
     "output_type": "stream",
     "text": [
      "/opt/homebrew/Caskroom/miniforge/base/lib/python3.9/site-packages/statsmodels/base/model.py:592: HessianInversionWarning: Inverting hessian failed, no bse or cov_params available\n",
      "  warnings.warn('Inverting hessian failed, no bse or cov_params '\n",
      "/opt/homebrew/Caskroom/miniforge/base/lib/python3.9/site-packages/statsmodels/base/model.py:604: ConvergenceWarning: Maximum Likelihood optimization failed to converge. Check mle_retvals\n",
      "  warnings.warn(\"Maximum Likelihood optimization failed to \"\n"
     ]
    }
   ],
   "source": [
    "# building the model and fitting the data\n",
    "x_sm = x.copy()\n",
    "x_sm['intercept'] = 1\n",
    "y = 1*y\n",
    "sm_reg = sm.Logit(y, x_sm).fit(method='bfgs')\n",
    "print(sm_reg.summary())"
   ]
  },
  {
   "cell_type": "code",
   "execution_count": 621,
   "id": "452c4ddf-fcc8-45bd-8b9b-de42f0326cac",
   "metadata": {},
   "outputs": [
    {
     "name": "stdout",
     "output_type": "stream",
     "text": [
      "Accuracy: 0.8474815075730892, Precision: 0.628808864265928, Recall: 0.43155893536121676, F1: 0.5118376550169109\n"
     ]
    },
    {
     "data": {
      "image/png": "[encoded data removed]",
      "text/plain": [
       "<Figure size 432x288 with 1 Axes>"
      ]
     },
     "metadata": {
      "needs_background": "light"
     },
     "output_type": "display_data"
    }
   ],
   "source": [
    "model = dtree(max_depth=10, max_features=100, min_samples_leaf=100)\n",
    "model.fit(x,y)\n",
    "preds_dt = model.predict(xval)\n",
    "probs_dt = model.predict_proba(xval)\n",
    "\n",
    "report_dt, errors_dt, pred_dt = evaluate_predictions(yval, preds_dt, probs_dt[:,1])"
   ]
  },
  {
   "cell_type": "markdown",
   "id": "497e3e08-5fef-4b61-9411-a0941f916076",
   "metadata": {},
   "source": [
    "# Dtree Grid Search"
   ]
  },
  {
   "cell_type": "code",
   "execution_count": 415,
   "id": "e9c234f3-c986-4da3-94af-010c4b4c539e",
   "metadata": {},
   "outputs": [
    {
     "name": "stdout",
     "output_type": "stream",
     "text": [
      "input data has 28382 rows\n",
      "Subsetting Columns\n",
      "One Hot Encoding\n",
      "Fitting 5 folds for each of 9 candidates, totalling 45 fits\n",
      "[CV 1/5] END .......max_depth=1, max_features=1;, score=0.000 total time=   0.0s\n",
      "[CV 2/5] END .......max_depth=1, max_features=1;, score=0.000 total time=   0.0s\n",
      "[CV 3/5] END .......max_depth=1, max_features=1;, score=0.000 total time=   0.0s\n",
      "[CV 4/5] END .......max_depth=1, max_features=1;, score=0.000 total time=   0.0s\n",
      "[CV 5/5] END .......max_depth=1, max_features=1;, score=0.000 total time=   0.0s\n",
      "[CV 1/5] END ......max_depth=1, max_features=10;, score=0.000 total time=   0.0s\n",
      "[CV 2/5] END ......max_depth=1, max_features=10;, score=0.486 total time=   0.0s\n",
      "[CV 3/5] END ......max_depth=1, max_features=10;, score=0.000 total time=   0.0s\n",
      "[CV 4/5] END ......max_depth=1, max_features=10;, score=0.000 total time=   0.0s\n",
      "[CV 5/5] END ......max_depth=1, max_features=10;, score=0.496 total time=   0.0s\n",
      "[CV 1/5] END .....max_depth=1, max_features=100;, score=0.507 total time=   0.0s\n",
      "[CV 2/5] END .....max_depth=1, max_features=100;, score=0.486 total time=   0.0s\n",
      "[CV 3/5] END .....max_depth=1, max_features=100;, score=0.487 total time=   0.0s\n",
      "[CV 4/5] END .....max_depth=1, max_features=100;, score=0.515 total time=   0.0s\n",
      "[CV 5/5] END .....max_depth=1, max_features=100;, score=0.496 total time=   0.0s\n",
      "[CV 1/5] END ......max_depth=10, max_features=1;, score=0.259 total time=   0.0s\n",
      "[CV 2/5] END ......max_depth=10, max_features=1;, score=0.391 total time=   0.0s\n",
      "[CV 3/5] END ......max_depth=10, max_features=1;, score=0.232 total time=   0.0s\n",
      "[CV 4/5] END ......max_depth=10, max_features=1;, score=0.364 total time=   0.0s\n",
      "[CV 5/5] END ......max_depth=10, max_features=1;, score=0.450 total time=   0.0s\n",
      "[CV 1/5] END .....max_depth=10, max_features=10;, score=0.502 total time=   0.1s\n",
      "[CV 2/5] END .....max_depth=10, max_features=10;, score=0.527 total time=   0.1s\n",
      "[CV 3/5] END .....max_depth=10, max_features=10;, score=0.486 total time=   0.1s\n",
      "[CV 4/5] END .....max_depth=10, max_features=10;, score=0.507 total time=   0.1s\n",
      "[CV 5/5] END .....max_depth=10, max_features=10;, score=0.482 total time=   0.1s\n",
      "[CV 1/5] END ....max_depth=10, max_features=100;, score=0.497 total time=   0.1s\n",
      "[CV 2/5] END ....max_depth=10, max_features=100;, score=0.501 total time=   0.2s\n",
      "[CV 3/5] END ....max_depth=10, max_features=100;, score=0.501 total time=   0.1s\n",
      "[CV 4/5] END ....max_depth=10, max_features=100;, score=0.519 total time=   0.2s\n",
      "[CV 5/5] END ....max_depth=10, max_features=100;, score=0.510 total time=   0.2s\n",
      "[CV 1/5] END .....max_depth=100, max_features=1;, score=0.382 total time=   0.0s\n",
      "[CV 2/5] END .....max_depth=100, max_features=1;, score=0.404 total time=   0.0s\n",
      "[CV 3/5] END .....max_depth=100, max_features=1;, score=0.378 total time=   0.0s\n",
      "[CV 4/5] END .....max_depth=100, max_features=1;, score=0.409 total time=   0.0s\n",
      "[CV 5/5] END .....max_depth=100, max_features=1;, score=0.346 total time=   0.0s\n",
      "[CV 1/5] END ....max_depth=100, max_features=10;, score=0.459 total time=   0.2s\n",
      "[CV 2/5] END ....max_depth=100, max_features=10;, score=0.441 total time=   0.2s\n",
      "[CV 3/5] END ....max_depth=100, max_features=10;, score=0.445 total time=   0.2s\n",
      "[CV 4/5] END ....max_depth=100, max_features=10;, score=0.454 total time=   0.2s\n",
      "[CV 5/5] END ....max_depth=100, max_features=10;, score=0.438 total time=   0.2s\n",
      "[CV 1/5] END ...max_depth=100, max_features=100;, score=0.437 total time=   0.3s\n",
      "[CV 2/5] END ...max_depth=100, max_features=100;, score=0.437 total time=   0.3s\n",
      "[CV 3/5] END ...max_depth=100, max_features=100;, score=0.437 total time=   0.3s\n",
      "[CV 4/5] END ...max_depth=100, max_features=100;, score=0.454 total time=   0.3s\n",
      "[CV 5/5] END ...max_depth=100, max_features=100;, score=0.440 total time=   0.3s\n"
     ]
    },
    {
     "data": {
      "text/html": [
       "<style>#sk-container-id-10 {color: black;background-color: white;}#sk-container-id-10 pre{padding: 0;}#sk-container-id-10 div.sk-toggleable {background-color: white;}#sk-container-id-10 label.sk-toggleable__label {cursor: pointer;display: block;width: 100%;margin-bottom: 0;padding: 0.3em;box-sizing: border-box;text-align: center;}#sk-container-id-10 label.sk-toggleable__label-arrow:before {content: \"▸\";float: left;margin-right: 0.25em;color: #696969;}#sk-container-id-10 label.sk-toggleable__label-arrow:hover:before {color: black;}#sk-container-id-10 div.sk-estimator:hover label.sk-toggleable__label-arrow:before {color: black;}#sk-container-id-10 div.sk-toggleable__content {max-height: 0;max-width: 0;overflow: hidden;text-align: left;background-color: #f0f8ff;}#sk-container-id-10 div.sk-toggleable__content pre {margin: 0.2em;color: black;border-radius: 0.25em;background-color: #f0f8ff;}#sk-container-id-10 input.sk-toggleable__control:checked~div.sk-toggleable__content {max-height: 200px;max-width: 100%;overflow: auto;}#sk-container-id-10 input.sk-toggleable__control:checked~label.sk-toggleable__label-arrow:before {content: \"▾\";}#sk-container-id-10 div.sk-estimator input.sk-toggleable__control:checked~label.sk-toggleable__label {background-color: #d4ebff;}#sk-container-id-10 div.sk-label input.sk-toggleable__control:checked~label.sk-toggleable__label {background-color: #d4ebff;}#sk-container-id-10 input.sk-hidden--visually {border: 0;clip: rect(1px 1px 1px 1px);clip: rect(1px, 1px, 1px, 1px);height: 1px;margin: -1px;overflow: hidden;padding: 0;position: absolute;width: 1px;}#sk-container-id-10 div.sk-estimator {font-family: monospace;background-color: #f0f8ff;border: 1px dotted black;border-radius: 0.25em;box-sizing: border-box;margin-bottom: 0.5em;}#sk-container-id-10 div.sk-estimator:hover {background-color: #d4ebff;}#sk-container-id-10 div.sk-parallel-item::after {content: \"\";width: 100%;border-bottom: 1px solid gray;flex-grow: 1;}#sk-container-id-10 div.sk-label:hover label.sk-toggleable__label {background-color: #d4ebff;}#sk-container-id-10 div.sk-serial::before {content: \"\";position: absolute;border-left: 1px solid gray;box-sizing: border-box;top: 0;bottom: 0;left: 50%;z-index: 0;}#sk-container-id-10 div.sk-serial {display: flex;flex-direction: column;align-items: center;background-color: white;padding-right: 0.2em;padding-left: 0.2em;position: relative;}#sk-container-id-10 div.sk-item {position: relative;z-index: 1;}#sk-container-id-10 div.sk-parallel {display: flex;align-items: stretch;justify-content: center;background-color: white;position: relative;}#sk-container-id-10 div.sk-item::before, #sk-container-id-10 div.sk-parallel-item::before {content: \"\";position: absolute;border-left: 1px solid gray;box-sizing: border-box;top: 0;bottom: 0;left: 50%;z-index: -1;}#sk-container-id-10 div.sk-parallel-item {display: flex;flex-direction: column;z-index: 1;position: relative;background-color: white;}#sk-container-id-10 div.sk-parallel-item:first-child::after {align-self: flex-end;width: 50%;}#sk-container-id-10 div.sk-parallel-item:last-child::after {align-self: flex-start;width: 50%;}#sk-container-id-10 div.sk-parallel-item:only-child::after {width: 0;}#sk-container-id-10 div.sk-dashed-wrapped {border: 1px dashed gray;margin: 0 0.4em 0.5em 0.4em;box-sizing: border-box;padding-bottom: 0.4em;background-color: white;}#sk-container-id-10 div.sk-label label {font-family: monospace;font-weight: bold;display: inline-block;line-height: 1.2em;}#sk-container-id-10 div.sk-label-container {text-align: center;}#sk-container-id-10 div.sk-container {/* jupyter's `normalize.less` sets `[hidden] { display: none; }` but bootstrap.min.css set `[hidden] { display: none !important; }` so we also need the `!important` here to be able to override the default hidden behavior on the sphinx rendered scikit-learn.org. See: https://github.com/scikit-learn/scikit-learn/issues/21755 */display: inline-block !important;position: relative;}#sk-container-id-10 div.sk-text-repr-fallback {display: none;}</style><div id=\"sk-container-id-10\" class=\"sk-top-container\"><div class=\"sk-text-repr-fallback\"><pre>GridSearchCV(estimator=DecisionTreeClassifier(),\n",
       "             param_grid={&#x27;max_depth&#x27;: [1, 10, 100],\n",
       "                         &#x27;max_features&#x27;: [1, 10, 100]},\n",
       "             scoring=&#x27;f1&#x27;, verbose=3)</pre><b>In a Jupyter environment, please rerun this cell to show the HTML representation or trust the notebook. <br />On GitHub, the HTML representation is unable to render, please try loading this page with nbviewer.org.</b></div><div class=\"sk-container\" hidden><div class=\"sk-item sk-dashed-wrapped\"><div class=\"sk-label-container\"><div class=\"sk-label sk-toggleable\"><input class=\"sk-toggleable__control sk-hidden--visually\" id=\"sk-estimator-id-28\" type=\"checkbox\" ><label for=\"sk-estimator-id-28\" class=\"sk-toggleable__label sk-toggleable__label-arrow\">GridSearchCV</label><div class=\"sk-toggleable__content\"><pre>GridSearchCV(estimator=DecisionTreeClassifier(),\n",
       "             param_grid={&#x27;max_depth&#x27;: [1, 10, 100],\n",
       "                         &#x27;max_features&#x27;: [1, 10, 100]},\n",
       "             scoring=&#x27;f1&#x27;, verbose=3)</pre></div></div></div><div class=\"sk-parallel\"><div class=\"sk-parallel-item\"><div class=\"sk-item\"><div class=\"sk-label-container\"><div class=\"sk-label sk-toggleable\"><input class=\"sk-toggleable__control sk-hidden--visually\" id=\"sk-estimator-id-29\" type=\"checkbox\" ><label for=\"sk-estimator-id-29\" class=\"sk-toggleable__label sk-toggleable__label-arrow\">estimator: DecisionTreeClassifier</label><div class=\"sk-toggleable__content\"><pre>DecisionTreeClassifier()</pre></div></div></div><div class=\"sk-serial\"><div class=\"sk-item\"><div class=\"sk-estimator sk-toggleable\"><input class=\"sk-toggleable__control sk-hidden--visually\" id=\"sk-estimator-id-30\" type=\"checkbox\" ><label for=\"sk-estimator-id-30\" class=\"sk-toggleable__label sk-toggleable__label-arrow\">DecisionTreeClassifier</label><div class=\"sk-toggleable__content\"><pre>DecisionTreeClassifier()</pre></div></div></div></div></div></div></div></div></div></div>"
      ],
      "text/plain": [
       "GridSearchCV(estimator=DecisionTreeClassifier(),\n",
       "             param_grid={'max_depth': [1, 10, 100],\n",
       "                         'max_features': [1, 10, 100]},\n",
       "             scoring='f1', verbose=3)"
      ]
     },
     "execution_count": 415,
     "metadata": {},
     "output_type": "execute_result"
    }
   ],
   "source": [
    "param_grid = {'max_features' : [1,10,100], 'max_depth': [1,10,100]}\n",
    "x,y = dp.split_data(df, target = 'churn', include_cols=select_cols, ohe = True)\n",
    "x, _ = scale_x(x,x)\n",
    "\n",
    "gcv = GridSearchCV(dtree(), param_grid, scoring = 'f1', verbose = 3)\n",
    "gcv.fit(x,y)"
   ]
  },
  {
   "cell_type": "markdown",
   "id": "fe3880ee-7b7a-4b1a-b622-5a81ba3fe9ed",
   "metadata": {},
   "source": [
    "## RF Grid Search"
   ]
  },
  {
   "cell_type": "code",
   "execution_count": 486,
   "id": "50c031d9-c59b-46aa-bd2b-6dfd8d9bb4d5",
   "metadata": {},
   "outputs": [
    {
     "name": "stdout",
     "output_type": "stream",
     "text": [
      "input data has 28382 rows\n",
      "Subsetting Columns\n",
      "One Hot Encoding\n",
      "Fitting 5 folds for each of 12 candidates, totalling 60 fits\n",
      "[CV 1/5] END .......max_depth=1, max_features=1;, score=0.000 total time=   0.2s\n",
      "[CV 2/5] END .......max_depth=1, max_features=1;, score=0.000 total time=   0.2s\n",
      "[CV 3/5] END .......max_depth=1, max_features=1;, score=0.000 total time=   0.2s\n",
      "[CV 4/5] END .......max_depth=1, max_features=1;, score=0.000 total time=   0.2s\n",
      "[CV 5/5] END .......max_depth=1, max_features=1;, score=0.000 total time=   0.2s\n",
      "[CV 1/5] END ......max_depth=1, max_features=10;, score=0.038 total time=   0.8s\n",
      "[CV 2/5] END ......max_depth=1, max_features=10;, score=0.013 total time=   0.8s\n",
      "[CV 3/5] END ......max_depth=1, max_features=10;, score=0.087 total time=   0.8s\n",
      "[CV 4/5] END ......max_depth=1, max_features=10;, score=0.056 total time=   0.8s\n",
      "[CV 5/5] END ......max_depth=1, max_features=10;, score=0.052 total time=   0.8s\n",
      "[CV 1/5] END .....max_depth=1, max_features=100;, score=0.501 total time=   1.2s\n",
      "[CV 2/5] END .....max_depth=1, max_features=100;, score=0.483 total time=   1.2s\n",
      "[CV 3/5] END .....max_depth=1, max_features=100;, score=0.487 total time=   1.2s\n",
      "[CV 4/5] END .....max_depth=1, max_features=100;, score=0.515 total time=   1.2s\n",
      "[CV 5/5] END .....max_depth=1, max_features=100;, score=0.487 total time=   1.2s\n",
      "[CV 1/5] END ......max_depth=10, max_features=1;, score=0.357 total time=   0.9s\n",
      "[CV 2/5] END ......max_depth=10, max_features=1;, score=0.363 total time=   0.9s\n",
      "[CV 3/5] END ......max_depth=10, max_features=1;, score=0.309 total time=   0.9s\n",
      "[CV 4/5] END ......max_depth=10, max_features=1;, score=0.332 total time=   0.9s\n",
      "[CV 5/5] END ......max_depth=10, max_features=1;, score=0.331 total time=   0.9s\n",
      "[CV 1/5] END .....max_depth=10, max_features=10;, score=0.555 total time=   5.6s\n",
      "[CV 2/5] END .....max_depth=10, max_features=10;, score=0.541 total time=   5.6s\n",
      "[CV 3/5] END .....max_depth=10, max_features=10;, score=0.532 total time=   5.5s\n",
      "[CV 4/5] END .....max_depth=10, max_features=10;, score=0.563 total time=   5.7s\n",
      "[CV 5/5] END .....max_depth=10, max_features=10;, score=0.529 total time=   6.1s\n",
      "[CV 1/5] END ....max_depth=10, max_features=100;, score=0.561 total time=   9.5s\n",
      "[CV 2/5] END ....max_depth=10, max_features=100;, score=0.552 total time=   9.3s\n",
      "[CV 3/5] END ....max_depth=10, max_features=100;, score=0.537 total time=   9.5s\n",
      "[CV 4/5] END ....max_depth=10, max_features=100;, score=0.561 total time=   9.4s\n",
      "[CV 5/5] END ....max_depth=10, max_features=100;, score=0.527 total time=   9.4s\n",
      "[CV 1/5] END .....max_depth=100, max_features=1;, score=0.478 total time=   1.6s\n",
      "[CV 2/5] END .....max_depth=100, max_features=1;, score=0.469 total time=   1.6s\n",
      "[CV 3/5] END .....max_depth=100, max_features=1;, score=0.465 total time=   1.6s\n",
      "[CV 4/5] END .....max_depth=100, max_features=1;, score=0.466 total time=   1.6s\n",
      "[CV 5/5] END .....max_depth=100, max_features=1;, score=0.465 total time=   1.6s\n",
      "[CV 1/5] END ....max_depth=100, max_features=10;, score=0.551 total time=  10.1s\n",
      "[CV 2/5] END ....max_depth=100, max_features=10;, score=0.546 total time=  10.2s\n",
      "[CV 3/5] END ....max_depth=100, max_features=10;, score=0.545 total time=  10.3s\n",
      "[CV 4/5] END ....max_depth=100, max_features=10;, score=0.585 total time=  10.2s\n",
      "[CV 5/5] END ....max_depth=100, max_features=10;, score=0.548 total time=  10.2s\n",
      "[CV 1/5] END ...max_depth=100, max_features=100;, score=0.566 total time=  17.1s\n",
      "[CV 2/5] END ...max_depth=100, max_features=100;, score=0.551 total time=  17.4s\n",
      "[CV 3/5] END ...max_depth=100, max_features=100;, score=0.545 total time=  17.0s\n",
      "[CV 4/5] END ...max_depth=100, max_features=100;, score=0.567 total time=  17.4s\n",
      "[CV 5/5] END ...max_depth=100, max_features=100;, score=0.531 total time=  17.6s\n",
      "[CV 1/5] END ....max_depth=None, max_features=1;, score=0.468 total time=   1.7s\n",
      "[CV 2/5] END ....max_depth=None, max_features=1;, score=0.460 total time=   1.6s\n",
      "[CV 3/5] END ....max_depth=None, max_features=1;, score=0.471 total time=   1.6s\n",
      "[CV 4/5] END ....max_depth=None, max_features=1;, score=0.471 total time=   1.6s\n",
      "[CV 5/5] END ....max_depth=None, max_features=1;, score=0.457 total time=   1.6s\n",
      "[CV 1/5] END ...max_depth=None, max_features=10;, score=0.559 total time=  10.0s\n",
      "[CV 2/5] END ...max_depth=None, max_features=10;, score=0.554 total time=  10.3s\n",
      "[CV 3/5] END ...max_depth=None, max_features=10;, score=0.542 total time=  10.1s\n",
      "[CV 4/5] END ...max_depth=None, max_features=10;, score=0.555 total time=  10.4s\n",
      "[CV 5/5] END ...max_depth=None, max_features=10;, score=0.538 total time=  10.3s\n",
      "[CV 1/5] END ..max_depth=None, max_features=100;, score=0.563 total time=  17.3s\n",
      "[CV 2/5] END ..max_depth=None, max_features=100;, score=0.551 total time=  17.3s\n",
      "[CV 3/5] END ..max_depth=None, max_features=100;, score=0.544 total time=  17.6s\n",
      "[CV 4/5] END ..max_depth=None, max_features=100;, score=0.565 total time=  17.8s\n",
      "[CV 5/5] END ..max_depth=None, max_features=100;, score=0.531 total time=  18.0s\n"
     ]
    },
    {
     "data": {
      "text/html": [
       "<style>#sk-container-id-13 {color: black;background-color: white;}#sk-container-id-13 pre{padding: 0;}#sk-container-id-13 div.sk-toggleable {background-color: white;}#sk-container-id-13 label.sk-toggleable__label {cursor: pointer;display: block;width: 100%;margin-bottom: 0;padding: 0.3em;box-sizing: border-box;text-align: center;}#sk-container-id-13 label.sk-toggleable__label-arrow:before {content: \"▸\";float: left;margin-right: 0.25em;color: #696969;}#sk-container-id-13 label.sk-toggleable__label-arrow:hover:before {color: black;}#sk-container-id-13 div.sk-estimator:hover label.sk-toggleable__label-arrow:before {color: black;}#sk-container-id-13 div.sk-toggleable__content {max-height: 0;max-width: 0;overflow: hidden;text-align: left;background-color: #f0f8ff;}#sk-container-id-13 div.sk-toggleable__content pre {margin: 0.2em;color: black;border-radius: 0.25em;background-color: #f0f8ff;}#sk-container-id-13 input.sk-toggleable__control:checked~div.sk-toggleable__content {max-height: 200px;max-width: 100%;overflow: auto;}#sk-container-id-13 input.sk-toggleable__control:checked~label.sk-toggleable__label-arrow:before {content: \"▾\";}#sk-container-id-13 div.sk-estimator input.sk-toggleable__control:checked~label.sk-toggleable__label {background-color: #d4ebff;}#sk-container-id-13 div.sk-label input.sk-toggleable__control:checked~label.sk-toggleable__label {background-color: #d4ebff;}#sk-container-id-13 input.sk-hidden--visually {border: 0;clip: rect(1px 1px 1px 1px);clip: rect(1px, 1px, 1px, 1px);height: 1px;margin: -1px;overflow: hidden;padding: 0;position: absolute;width: 1px;}#sk-container-id-13 div.sk-estimator {font-family: monospace;background-color: #f0f8ff;border: 1px dotted black;border-radius: 0.25em;box-sizing: border-box;margin-bottom: 0.5em;}#sk-container-id-13 div.sk-estimator:hover {background-color: #d4ebff;}#sk-container-id-13 div.sk-parallel-item::after {content: \"\";width: 100%;border-bottom: 1px solid gray;flex-grow: 1;}#sk-container-id-13 div.sk-label:hover label.sk-toggleable__label {background-color: #d4ebff;}#sk-container-id-13 div.sk-serial::before {content: \"\";position: absolute;border-left: 1px solid gray;box-sizing: border-box;top: 0;bottom: 0;left: 50%;z-index: 0;}#sk-container-id-13 div.sk-serial {display: flex;flex-direction: column;align-items: center;background-color: white;padding-right: 0.2em;padding-left: 0.2em;position: relative;}#sk-container-id-13 div.sk-item {position: relative;z-index: 1;}#sk-container-id-13 div.sk-parallel {display: flex;align-items: stretch;justify-content: center;background-color: white;position: relative;}#sk-container-id-13 div.sk-item::before, #sk-container-id-13 div.sk-parallel-item::before {content: \"\";position: absolute;border-left: 1px solid gray;box-sizing: border-box;top: 0;bottom: 0;left: 50%;z-index: -1;}#sk-container-id-13 div.sk-parallel-item {display: flex;flex-direction: column;z-index: 1;position: relative;background-color: white;}#sk-container-id-13 div.sk-parallel-item:first-child::after {align-self: flex-end;width: 50%;}#sk-container-id-13 div.sk-parallel-item:last-child::after {align-self: flex-start;width: 50%;}#sk-container-id-13 div.sk-parallel-item:only-child::after {width: 0;}#sk-container-id-13 div.sk-dashed-wrapped {border: 1px dashed gray;margin: 0 0.4em 0.5em 0.4em;box-sizing: border-box;padding-bottom: 0.4em;background-color: white;}#sk-container-id-13 div.sk-label label {font-family: monospace;font-weight: bold;display: inline-block;line-height: 1.2em;}#sk-container-id-13 div.sk-label-container {text-align: center;}#sk-container-id-13 div.sk-container {/* jupyter's `normalize.less` sets `[hidden] { display: none; }` but bootstrap.min.css set `[hidden] { display: none !important; }` so we also need the `!important` here to be able to override the default hidden behavior on the sphinx rendered scikit-learn.org. See: https://github.com/scikit-learn/scikit-learn/issues/21755 */display: inline-block !important;position: relative;}#sk-container-id-13 div.sk-text-repr-fallback {display: none;}</style><div id=\"sk-container-id-13\" class=\"sk-top-container\"><div class=\"sk-text-repr-fallback\"><pre>GridSearchCV(estimator=RandomForestClassifier(),\n",
       "             param_grid={&#x27;max_depth&#x27;: [1, 10, 100, None],\n",
       "                         &#x27;max_features&#x27;: [1, 10, 100]},\n",
       "             scoring=&#x27;f1&#x27;, verbose=3)</pre><b>In a Jupyter environment, please rerun this cell to show the HTML representation or trust the notebook. <br />On GitHub, the HTML representation is unable to render, please try loading this page with nbviewer.org.</b></div><div class=\"sk-container\" hidden><div class=\"sk-item sk-dashed-wrapped\"><div class=\"sk-label-container\"><div class=\"sk-label sk-toggleable\"><input class=\"sk-toggleable__control sk-hidden--visually\" id=\"sk-estimator-id-35\" type=\"checkbox\" ><label for=\"sk-estimator-id-35\" class=\"sk-toggleable__label sk-toggleable__label-arrow\">GridSearchCV</label><div class=\"sk-toggleable__content\"><pre>GridSearchCV(estimator=RandomForestClassifier(),\n",
       "             param_grid={&#x27;max_depth&#x27;: [1, 10, 100, None],\n",
       "                         &#x27;max_features&#x27;: [1, 10, 100]},\n",
       "             scoring=&#x27;f1&#x27;, verbose=3)</pre></div></div></div><div class=\"sk-parallel\"><div class=\"sk-parallel-item\"><div class=\"sk-item\"><div class=\"sk-label-container\"><div class=\"sk-label sk-toggleable\"><input class=\"sk-toggleable__control sk-hidden--visually\" id=\"sk-estimator-id-36\" type=\"checkbox\" ><label for=\"sk-estimator-id-36\" class=\"sk-toggleable__label sk-toggleable__label-arrow\">estimator: RandomForestClassifier</label><div class=\"sk-toggleable__content\"><pre>RandomForestClassifier()</pre></div></div></div><div class=\"sk-serial\"><div class=\"sk-item\"><div class=\"sk-estimator sk-toggleable\"><input class=\"sk-toggleable__control sk-hidden--visually\" id=\"sk-estimator-id-37\" type=\"checkbox\" ><label for=\"sk-estimator-id-37\" class=\"sk-toggleable__label sk-toggleable__label-arrow\">RandomForestClassifier</label><div class=\"sk-toggleable__content\"><pre>RandomForestClassifier()</pre></div></div></div></div></div></div></div></div></div></div>"
      ],
      "text/plain": [
       "GridSearchCV(estimator=RandomForestClassifier(),\n",
       "             param_grid={'max_depth': [1, 10, 100, None],\n",
       "                         'max_features': [1, 10, 100]},\n",
       "             scoring='f1', verbose=3)"
      ]
     },
     "execution_count": 486,
     "metadata": {},
     "output_type": "execute_result"
    }
   ],
   "source": [
    "param_grid = {'max_features' : [1,10,100], 'max_depth': [1,10,100, None]}\n",
    "x,y = dp.split_data(df, target = 'churn', include_cols=select_cols, ohe = True)\n",
    "x, _ = scale_x(x,x)\n",
    "\n",
    "gcv = GridSearchCV(rf(), param_grid, scoring = 'f1', verbose = 3)\n",
    "gcv.fit(x,y)"
   ]
  },
  {
   "cell_type": "code",
   "execution_count": 488,
   "id": "738e82c2-c6d8-4fcc-8f79-5374b8a4c8db",
   "metadata": {},
   "outputs": [
    {
     "data": {
      "text/html": [
       "<style>#sk-container-id-15 {color: black;background-color: white;}#sk-container-id-15 pre{padding: 0;}#sk-container-id-15 div.sk-toggleable {background-color: white;}#sk-container-id-15 label.sk-toggleable__label {cursor: pointer;display: block;width: 100%;margin-bottom: 0;padding: 0.3em;box-sizing: border-box;text-align: center;}#sk-container-id-15 label.sk-toggleable__label-arrow:before {content: \"▸\";float: left;margin-right: 0.25em;color: #696969;}#sk-container-id-15 label.sk-toggleable__label-arrow:hover:before {color: black;}#sk-container-id-15 div.sk-estimator:hover label.sk-toggleable__label-arrow:before {color: black;}#sk-container-id-15 div.sk-toggleable__content {max-height: 0;max-width: 0;overflow: hidden;text-align: left;background-color: #f0f8ff;}#sk-container-id-15 div.sk-toggleable__content pre {margin: 0.2em;color: black;border-radius: 0.25em;background-color: #f0f8ff;}#sk-container-id-15 input.sk-toggleable__control:checked~div.sk-toggleable__content {max-height: 200px;max-width: 100%;overflow: auto;}#sk-container-id-15 input.sk-toggleable__control:checked~label.sk-toggleable__label-arrow:before {content: \"▾\";}#sk-container-id-15 div.sk-estimator input.sk-toggleable__control:checked~label.sk-toggleable__label {background-color: #d4ebff;}#sk-container-id-15 div.sk-label input.sk-toggleable__control:checked~label.sk-toggleable__label {background-color: #d4ebff;}#sk-container-id-15 input.sk-hidden--visually {border: 0;clip: rect(1px 1px 1px 1px);clip: rect(1px, 1px, 1px, 1px);height: 1px;margin: -1px;overflow: hidden;padding: 0;position: absolute;width: 1px;}#sk-container-id-15 div.sk-estimator {font-family: monospace;background-color: #f0f8ff;border: 1px dotted black;border-radius: 0.25em;box-sizing: border-box;margin-bottom: 0.5em;}#sk-container-id-15 div.sk-estimator:hover {background-color: #d4ebff;}#sk-container-id-15 div.sk-parallel-item::after {content: \"\";width: 100%;border-bottom: 1px solid gray;flex-grow: 1;}#sk-container-id-15 div.sk-label:hover label.sk-toggleable__label {background-color: #d4ebff;}#sk-container-id-15 div.sk-serial::before {content: \"\";position: absolute;border-left: 1px solid gray;box-sizing: border-box;top: 0;bottom: 0;left: 50%;z-index: 0;}#sk-container-id-15 div.sk-serial {display: flex;flex-direction: column;align-items: center;background-color: white;padding-right: 0.2em;padding-left: 0.2em;position: relative;}#sk-container-id-15 div.sk-item {position: relative;z-index: 1;}#sk-container-id-15 div.sk-parallel {display: flex;align-items: stretch;justify-content: center;background-color: white;position: relative;}#sk-container-id-15 div.sk-item::before, #sk-container-id-15 div.sk-parallel-item::before {content: \"\";position: absolute;border-left: 1px solid gray;box-sizing: border-box;top: 0;bottom: 0;left: 50%;z-index: -1;}#sk-container-id-15 div.sk-parallel-item {display: flex;flex-direction: column;z-index: 1;position: relative;background-color: white;}#sk-container-id-15 div.sk-parallel-item:first-child::after {align-self: flex-end;width: 50%;}#sk-container-id-15 div.sk-parallel-item:last-child::after {align-self: flex-start;width: 50%;}#sk-container-id-15 div.sk-parallel-item:only-child::after {width: 0;}#sk-container-id-15 div.sk-dashed-wrapped {border: 1px dashed gray;margin: 0 0.4em 0.5em 0.4em;box-sizing: border-box;padding-bottom: 0.4em;background-color: white;}#sk-container-id-15 div.sk-label label {font-family: monospace;font-weight: bold;display: inline-block;line-height: 1.2em;}#sk-container-id-15 div.sk-label-container {text-align: center;}#sk-container-id-15 div.sk-container {/* jupyter's `normalize.less` sets `[hidden] { display: none; }` but bootstrap.min.css set `[hidden] { display: none !important; }` so we also need the `!important` here to be able to override the default hidden behavior on the sphinx rendered scikit-learn.org. See: https://github.com/scikit-learn/scikit-learn/issues/21755 */display: inline-block !important;position: relative;}#sk-container-id-15 div.sk-text-repr-fallback {display: none;}</style><div id=\"sk-container-id-15\" class=\"sk-top-container\"><div class=\"sk-text-repr-fallback\"><pre>RandomForestClassifier(max_depth=100, max_features=10)</pre><b>In a Jupyter environment, please rerun this cell to show the HTML representation or trust the notebook. <br />On GitHub, the HTML representation is unable to render, please try loading this page with nbviewer.org.</b></div><div class=\"sk-container\" hidden><div class=\"sk-item\"><div class=\"sk-estimator sk-toggleable\"><input class=\"sk-toggleable__control sk-hidden--visually\" id=\"sk-estimator-id-39\" type=\"checkbox\" checked><label for=\"sk-estimator-id-39\" class=\"sk-toggleable__label sk-toggleable__label-arrow\">RandomForestClassifier</label><div class=\"sk-toggleable__content\"><pre>RandomForestClassifier(max_depth=100, max_features=10)</pre></div></div></div></div></div>"
      ],
      "text/plain": [
       "RandomForestClassifier(max_depth=100, max_features=10)"
      ]
     },
     "execution_count": 488,
     "metadata": {},
     "output_type": "execute_result"
    }
   ],
   "source": [
    "gcv.best_estimator_"
   ]
  },
  {
   "cell_type": "code",
   "execution_count": 498,
   "id": "2bd2dce0-f763-44c1-9bb3-151511e6ef22",
   "metadata": {},
   "outputs": [
    {
     "name": "stdout",
     "output_type": "stream",
     "text": [
      "Loading from customer_churn folder\n",
      "input data has 28382 rows\n",
      "Subsetting Columns\n",
      "One Hot Encoding\n",
      "output data has 25543 + 2839 rows\n",
      "Accuracy: 0.8555829517435717, Precision: 0.6611111111111111, Recall: 0.4524714828897338, F1: 0.5372460496613995\n"
     ]
    },
    {
     "data": {
      "image/png": "[encoded data removed]",
      "text/plain": [
       "<Figure size 432x288 with 1 Axes>"
      ]
     },
     "metadata": {
      "needs_background": "light"
     },
     "output_type": "display_data"
    }
   ],
   "source": [
    "x,y,xval,yval = dp.split_data(df, target = 'churn', include_cols=select_cols, validation_split=0.1, ohe = True)\n",
    "x,xval = scale_x(x,xval)\n",
    "\n",
    "model = rf(max_depth=100, max_features=10)\n",
    "model.fit(x,y)\n",
    "\n",
    "preds_rf = model.predict(xval)\n",
    "probs_rf = model.predict_proba(xval)\n",
    "\n",
    "report_rf, errors_rf, preds_rf = evaluate_predictions(yval, preds_rf, probs_rf[:,1])"
   ]
  },
  {
   "cell_type": "markdown",
   "id": "2193e305-35f2-4784-b318-b8e11658d551",
   "metadata": {},
   "source": [
    "# feature Selection"
   ]
  },
  {
   "cell_type": "markdown",
   "id": "17b68bbd-d1ae-4384-a3a2-e415a37a3f2c",
   "metadata": {},
   "source": [
    "## Dtree"
   ]
  },
  {
   "cell_type": "code",
   "execution_count": 393,
   "id": "ddb87373-66fb-4959-8270-2b5f36a306e8",
   "metadata": {},
   "outputs": [
    {
     "name": "stdout",
     "output_type": "stream",
     "text": [
      "input data has 28382 rows\n",
      "Subsetting Columns\n",
      "One Hot Encoding\n"
     ]
    }
   ],
   "source": [
    "from sklearn.feature_selection import RFECV\n",
    "\n",
    "x,y = dp.split_data(df, target = 'churn', include_cols=select_cols, ohe = True)\n",
    "x, _ = scale_x(x,x)\n"
   ]
  },
  {
   "cell_type": "code",
   "execution_count": 421,
   "id": "8eea839a-385a-4cbb-8d0c-755adf567329",
   "metadata": {},
   "outputs": [
    {
     "name": "stdout",
     "output_type": "stream",
     "text": [
      "Fitting estimator with 17 features.\n",
      "Fitting estimator with 16 features.\n",
      "Fitting estimator with 15 features.\n",
      "Fitting estimator with 14 features.\n",
      "Fitting estimator with 13 features.\n",
      "Fitting estimator with 12 features.\n",
      "Fitting estimator with 11 features.\n",
      "Fitting estimator with 10 features.\n",
      "Fitting estimator with 9 features.\n",
      "Fitting estimator with 8 features.\n",
      "Fitting estimator with 7 features.\n",
      "Fitting estimator with 6 features.\n",
      "Fitting estimator with 5 features.\n",
      "Fitting estimator with 4 features.\n",
      "Fitting estimator with 3 features.\n",
      "Fitting estimator with 2 features.\n",
      "Fitting estimator with 17 features.\n",
      "Fitting estimator with 16 features.\n",
      "Fitting estimator with 15 features.\n",
      "Fitting estimator with 14 features.\n",
      "Fitting estimator with 13 features.\n",
      "Fitting estimator with 12 features.\n",
      "Fitting estimator with 11 features.\n",
      "Fitting estimator with 10 features.\n",
      "Fitting estimator with 9 features.\n",
      "Fitting estimator with 8 features.\n",
      "Fitting estimator with 7 features.\n",
      "Fitting estimator with 6 features.\n",
      "Fitting estimator with 5 features.\n",
      "Fitting estimator with 4 features.\n",
      "Fitting estimator with 3 features.\n",
      "Fitting estimator with 2 features.\n",
      "Fitting estimator with 17 features.\n",
      "Fitting estimator with 16 features.\n",
      "Fitting estimator with 15 features.\n",
      "Fitting estimator with 14 features.\n",
      "Fitting estimator with 13 features.\n",
      "Fitting estimator with 12 features.\n",
      "Fitting estimator with 11 features.\n",
      "Fitting estimator with 10 features.\n",
      "Fitting estimator with 9 features.\n",
      "Fitting estimator with 8 features.\n",
      "Fitting estimator with 7 features.\n",
      "Fitting estimator with 6 features.\n",
      "Fitting estimator with 5 features.\n",
      "Fitting estimator with 4 features.\n",
      "Fitting estimator with 3 features.\n",
      "Fitting estimator with 2 features.\n",
      "Fitting estimator with 17 features.\n",
      "Fitting estimator with 16 features.\n",
      "Fitting estimator with 15 features.\n",
      "Fitting estimator with 14 features.\n",
      "Fitting estimator with 13 features.\n",
      "Fitting estimator with 12 features.\n",
      "Fitting estimator with 11 features.\n",
      "Fitting estimator with 10 features.\n",
      "Fitting estimator with 9 features.\n",
      "Fitting estimator with 8 features.\n",
      "Fitting estimator with 7 features.\n",
      "Fitting estimator with 6 features.\n",
      "Fitting estimator with 5 features.\n",
      "Fitting estimator with 4 features.\n",
      "Fitting estimator with 3 features.\n",
      "Fitting estimator with 2 features.\n",
      "Fitting estimator with 17 features.\n",
      "Fitting estimator with 16 features.\n",
      "Fitting estimator with 15 features.\n",
      "Fitting estimator with 14 features.\n",
      "Fitting estimator with 13 features.\n",
      "Fitting estimator with 12 features.\n",
      "Fitting estimator with 11 features.\n",
      "Fitting estimator with 10 features.\n",
      "Fitting estimator with 9 features.\n",
      "Fitting estimator with 8 features.\n",
      "Fitting estimator with 7 features.\n",
      "Fitting estimator with 6 features.\n",
      "Fitting estimator with 5 features.\n",
      "Fitting estimator with 4 features.\n",
      "Fitting estimator with 3 features.\n",
      "Fitting estimator with 2 features.\n",
      "Fitting estimator with 17 features.\n",
      "Fitting estimator with 16 features.\n",
      "Fitting estimator with 15 features.\n",
      "Fitting estimator with 14 features.\n",
      "Fitting estimator with 13 features.\n",
      "Fitting estimator with 12 features.\n",
      "Fitting estimator with 11 features.\n",
      "Fitting estimator with 10 features.\n",
      "Fitting estimator with 9 features.\n",
      "Fitting estimator with 8 features.\n",
      "Fitting estimator with 7 features.\n",
      "Fitting estimator with 6 features.\n",
      "Fitting estimator with 5 features.\n",
      "Fitting estimator with 4 features.\n",
      "Fitting estimator with 3 features.\n"
     ]
    },
    {
     "data": {
      "text/html": [
       "<style>#sk-container-id-12 {color: black;background-color: white;}#sk-container-id-12 pre{padding: 0;}#sk-container-id-12 div.sk-toggleable {background-color: white;}#sk-container-id-12 label.sk-toggleable__label {cursor: pointer;display: block;width: 100%;margin-bottom: 0;padding: 0.3em;box-sizing: border-box;text-align: center;}#sk-container-id-12 label.sk-toggleable__label-arrow:before {content: \"▸\";float: left;margin-right: 0.25em;color: #696969;}#sk-container-id-12 label.sk-toggleable__label-arrow:hover:before {color: black;}#sk-container-id-12 div.sk-estimator:hover label.sk-toggleable__label-arrow:before {color: black;}#sk-container-id-12 div.sk-toggleable__content {max-height: 0;max-width: 0;overflow: hidden;text-align: left;background-color: #f0f8ff;}#sk-container-id-12 div.sk-toggleable__content pre {margin: 0.2em;color: black;border-radius: 0.25em;background-color: #f0f8ff;}#sk-container-id-12 input.sk-toggleable__control:checked~div.sk-toggleable__content {max-height: 200px;max-width: 100%;overflow: auto;}#sk-container-id-12 input.sk-toggleable__control:checked~label.sk-toggleable__label-arrow:before {content: \"▾\";}#sk-container-id-12 div.sk-estimator input.sk-toggleable__control:checked~label.sk-toggleable__label {background-color: #d4ebff;}#sk-container-id-12 div.sk-label input.sk-toggleable__control:checked~label.sk-toggleable__label {background-color: #d4ebff;}#sk-container-id-12 input.sk-hidden--visually {border: 0;clip: rect(1px 1px 1px 1px);clip: rect(1px, 1px, 1px, 1px);height: 1px;margin: -1px;overflow: hidden;padding: 0;position: absolute;width: 1px;}#sk-container-id-12 div.sk-estimator {font-family: monospace;background-color: #f0f8ff;border: 1px dotted black;border-radius: 0.25em;box-sizing: border-box;margin-bottom: 0.5em;}#sk-container-id-12 div.sk-estimator:hover {background-color: #d4ebff;}#sk-container-id-12 div.sk-parallel-item::after {content: \"\";width: 100%;border-bottom: 1px solid gray;flex-grow: 1;}#sk-container-id-12 div.sk-label:hover label.sk-toggleable__label {background-color: #d4ebff;}#sk-container-id-12 div.sk-serial::before {content: \"\";position: absolute;border-left: 1px solid gray;box-sizing: border-box;top: 0;bottom: 0;left: 50%;z-index: 0;}#sk-container-id-12 div.sk-serial {display: flex;flex-direction: column;align-items: center;background-color: white;padding-right: 0.2em;padding-left: 0.2em;position: relative;}#sk-container-id-12 div.sk-item {position: relative;z-index: 1;}#sk-container-id-12 div.sk-parallel {display: flex;align-items: stretch;justify-content: center;background-color: white;position: relative;}#sk-container-id-12 div.sk-item::before, #sk-container-id-12 div.sk-parallel-item::before {content: \"\";position: absolute;border-left: 1px solid gray;box-sizing: border-box;top: 0;bottom: 0;left: 50%;z-index: -1;}#sk-container-id-12 div.sk-parallel-item {display: flex;flex-direction: column;z-index: 1;position: relative;background-color: white;}#sk-container-id-12 div.sk-parallel-item:first-child::after {align-self: flex-end;width: 50%;}#sk-container-id-12 div.sk-parallel-item:last-child::after {align-self: flex-start;width: 50%;}#sk-container-id-12 div.sk-parallel-item:only-child::after {width: 0;}#sk-container-id-12 div.sk-dashed-wrapped {border: 1px dashed gray;margin: 0 0.4em 0.5em 0.4em;box-sizing: border-box;padding-bottom: 0.4em;background-color: white;}#sk-container-id-12 div.sk-label label {font-family: monospace;font-weight: bold;display: inline-block;line-height: 1.2em;}#sk-container-id-12 div.sk-label-container {text-align: center;}#sk-container-id-12 div.sk-container {/* jupyter's `normalize.less` sets `[hidden] { display: none; }` but bootstrap.min.css set `[hidden] { display: none !important; }` so we also need the `!important` here to be able to override the default hidden behavior on the sphinx rendered scikit-learn.org. See: https://github.com/scikit-learn/scikit-learn/issues/21755 */display: inline-block !important;position: relative;}#sk-container-id-12 div.sk-text-repr-fallback {display: none;}</style><div id=\"sk-container-id-12\" class=\"sk-top-container\"><div class=\"sk-text-repr-fallback\"><pre>RFECV(estimator=DecisionTreeClassifier(max_depth=10, max_features=100),\n",
       "      scoring=&#x27;f1&#x27;, verbose=2)</pre><b>In a Jupyter environment, please rerun this cell to show the HTML representation or trust the notebook. <br />On GitHub, the HTML representation is unable to render, please try loading this page with nbviewer.org.</b></div><div class=\"sk-container\" hidden><div class=\"sk-item sk-dashed-wrapped\"><div class=\"sk-label-container\"><div class=\"sk-label sk-toggleable\"><input class=\"sk-toggleable__control sk-hidden--visually\" id=\"sk-estimator-id-32\" type=\"checkbox\" ><label for=\"sk-estimator-id-32\" class=\"sk-toggleable__label sk-toggleable__label-arrow\">RFECV</label><div class=\"sk-toggleable__content\"><pre>RFECV(estimator=DecisionTreeClassifier(max_depth=10, max_features=100),\n",
       "      scoring=&#x27;f1&#x27;, verbose=2)</pre></div></div></div><div class=\"sk-parallel\"><div class=\"sk-parallel-item\"><div class=\"sk-item\"><div class=\"sk-label-container\"><div class=\"sk-label sk-toggleable\"><input class=\"sk-toggleable__control sk-hidden--visually\" id=\"sk-estimator-id-33\" type=\"checkbox\" ><label for=\"sk-estimator-id-33\" class=\"sk-toggleable__label sk-toggleable__label-arrow\">estimator: DecisionTreeClassifier</label><div class=\"sk-toggleable__content\"><pre>DecisionTreeClassifier(max_depth=10, max_features=100)</pre></div></div></div><div class=\"sk-serial\"><div class=\"sk-item\"><div class=\"sk-estimator sk-toggleable\"><input class=\"sk-toggleable__control sk-hidden--visually\" id=\"sk-estimator-id-34\" type=\"checkbox\" ><label for=\"sk-estimator-id-34\" class=\"sk-toggleable__label sk-toggleable__label-arrow\">DecisionTreeClassifier</label><div class=\"sk-toggleable__content\"><pre>DecisionTreeClassifier(max_depth=10, max_features=100)</pre></div></div></div></div></div></div></div></div></div></div>"
      ],
      "text/plain": [
       "RFECV(estimator=DecisionTreeClassifier(max_depth=10, max_features=100),\n",
       "      scoring='f1', verbose=2)"
      ]
     },
     "execution_count": 421,
     "metadata": {},
     "output_type": "execute_result"
    }
   ],
   "source": [
    "rfe = RFECV(dtree(max_depth=10, max_features=100), scoring = 'f1', verbose = 2)\n",
    "rfe.fit(x,y)"
   ]
  },
  {
   "cell_type": "code",
   "execution_count": 423,
   "id": "aba47e26-61a4-45f1-8b4c-2b0c730238be",
   "metadata": {},
   "outputs": [
    {
     "data": {
      "text/html": [
       "<div>\n",
       "<style scoped>\n",
       "    .dataframe tbody tr th:only-of-type {\n",
       "        vertical-align: middle;\n",
       "    }\n",
       "\n",
       "    .dataframe tbody tr th {\n",
       "        vertical-align: top;\n",
       "    }\n",
       "\n",
       "    .dataframe thead th {\n",
       "        text-align: right;\n",
       "    }\n",
       "</style>\n",
       "<table border=\"1\" class=\"dataframe\">\n",
       "  <thead>\n",
       "    <tr style=\"text-align: right;\">\n",
       "      <th></th>\n",
       "      <th>feat_rank</th>\n",
       "    </tr>\n",
       "  </thead>\n",
       "  <tbody>\n",
       "    <tr>\n",
       "      <th>days_since_last_transaction</th>\n",
       "      <td>9</td>\n",
       "    </tr>\n",
       "    <tr>\n",
       "      <th>vintage</th>\n",
       "      <td>7</td>\n",
       "    </tr>\n",
       "    <tr>\n",
       "      <th>dependents</th>\n",
       "      <td>11</td>\n",
       "    </tr>\n",
       "    <tr>\n",
       "      <th>current_balance</th>\n",
       "      <td>1</td>\n",
       "    </tr>\n",
       "    <tr>\n",
       "      <th>previous_month_end_balance</th>\n",
       "      <td>6</td>\n",
       "    </tr>\n",
       "    <tr>\n",
       "      <th>average_monthly_balance_prevQ</th>\n",
       "      <td>1</td>\n",
       "    </tr>\n",
       "    <tr>\n",
       "      <th>average_monthly_balance_prevQ2</th>\n",
       "      <td>4</td>\n",
       "    </tr>\n",
       "    <tr>\n",
       "      <th>current_month_credit</th>\n",
       "      <td>5</td>\n",
       "    </tr>\n",
       "    <tr>\n",
       "      <th>current_month_debit</th>\n",
       "      <td>2</td>\n",
       "    </tr>\n",
       "    <tr>\n",
       "      <th>previous_month_credit</th>\n",
       "      <td>8</td>\n",
       "    </tr>\n",
       "    <tr>\n",
       "      <th>previous_month_debit</th>\n",
       "      <td>3</td>\n",
       "    </tr>\n",
       "    <tr>\n",
       "      <th>credit_ratio</th>\n",
       "      <td>10</td>\n",
       "    </tr>\n",
       "    <tr>\n",
       "      <th>age_group_(0, 18]</th>\n",
       "      <td>15</td>\n",
       "    </tr>\n",
       "    <tr>\n",
       "      <th>age_group_(18, 25]</th>\n",
       "      <td>16</td>\n",
       "    </tr>\n",
       "    <tr>\n",
       "      <th>age_group_(25, 30]</th>\n",
       "      <td>12</td>\n",
       "    </tr>\n",
       "    <tr>\n",
       "      <th>age_group_(30, 60]</th>\n",
       "      <td>14</td>\n",
       "    </tr>\n",
       "    <tr>\n",
       "      <th>age_group_(60, 100]</th>\n",
       "      <td>13</td>\n",
       "    </tr>\n",
       "  </tbody>\n",
       "</table>\n",
       "</div>"
      ],
      "text/plain": [
       "                                feat_rank\n",
       "days_since_last_transaction             9\n",
       "vintage                                 7\n",
       "dependents                             11\n",
       "current_balance                         1\n",
       "previous_month_end_balance              6\n",
       "average_monthly_balance_prevQ           1\n",
       "average_monthly_balance_prevQ2          4\n",
       "current_month_credit                    5\n",
       "current_month_debit                     2\n",
       "previous_month_credit                   8\n",
       "previous_month_debit                    3\n",
       "credit_ratio                           10\n",
       "age_group_(0, 18]                      15\n",
       "age_group_(18, 25]                     16\n",
       "age_group_(25, 30]                     12\n",
       "age_group_(30, 60]                     14\n",
       "age_group_(60, 100]                    13"
      ]
     },
     "execution_count": 423,
     "metadata": {},
     "output_type": "execute_result"
    }
   ],
   "source": [
    "feature_ranks = pd.DataFrame(rfe.ranking_, columns = ['feat_rank'], index = rfe.feature_names_in_)\n",
    "feature_ranks"
   ]
  },
  {
   "cell_type": "code",
   "execution_count": 479,
   "id": "cae4c029-e495-4a26-bf24-0a57562be678",
   "metadata": {},
   "outputs": [],
   "source": [
    "select_cols = feature_ranks[feature_ranks.feat_rank <= 15].index\n",
    "select_cols\n",
    "\n",
    "select_cols = ['days_since_last_transaction', 'vintage', 'dependents',\n",
    "       'current_balance', 'previous_month_end_balance',\n",
    "       'average_monthly_balance_prevQ', 'average_monthly_balance_prevQ2',\n",
    "       'current_month_credit', 'current_month_debit', 'previous_month_credit',\n",
    "       'previous_month_debit', 'credit_ratio', 'age_group']\n",
    "       \n",
    "       "
   ]
  },
  {
   "cell_type": "code",
   "execution_count": 480,
   "id": "c92ca5f4-f3ed-4d77-947d-a73ee15e0aeb",
   "metadata": {},
   "outputs": [
    {
     "name": "stdout",
     "output_type": "stream",
     "text": [
      "input data has 28382 rows\n",
      "Subsetting Columns\n",
      "One Hot Encoding\n",
      "output data has 25543 + 2839 rows\n"
     ]
    }
   ],
   "source": [
    "x,y,xval,yval = dp.split_data(df, target = 'churn', include_cols=select_cols, validation_split=0.1, ohe = True)\n",
    "x,xval = scale_x(x,xval)"
   ]
  },
  {
   "cell_type": "code",
   "execution_count": 481,
   "id": "5efcae20-3fe5-4e75-a8ed-b9ad926881dc",
   "metadata": {},
   "outputs": [
    {
     "name": "stdout",
     "output_type": "stream",
     "text": [
      "Accuracy: 0.8534695315251849, Precision: 0.6314363143631436, Recall: 0.45419103313840153, F1: 0.528344671201814\n"
     ]
    },
    {
     "data": {
      "image/png": "[encoded data removed]",
      "text/plain": [
       "<Figure size 432x288 with 1 Axes>"
      ]
     },
     "metadata": {
      "needs_background": "light"
     },
     "output_type": "display_data"
    }
   ],
   "source": [
    "model = dtree(max_depth=10, max_features=100, min_samples_leaf=100)\n",
    "model.fit(x,y)\n",
    "preds_dt = model.predict(xval)\n",
    "probs_dt = model.predict_proba(xval)\n",
    "\n",
    "report_dt, errors_dt, pred_dt = evaluate_predictions(yval, preds_dt, probs_dt[:,1])"
   ]
  },
  {
   "cell_type": "markdown",
   "id": "e30b94a7-6b1c-4a11-a764-266156022ea4",
   "metadata": {},
   "source": [
    "## RF"
   ]
  },
  {
   "cell_type": "code",
   "execution_count": 492,
   "id": "8079b62d-3c7f-4ccc-b9a8-e8ef55c318b7",
   "metadata": {},
   "outputs": [
    {
     "name": "stdout",
     "output_type": "stream",
     "text": [
      "Fitting estimator with 17 features.\n",
      "Fitting estimator with 16 features.\n",
      "Fitting estimator with 15 features.\n",
      "Fitting estimator with 14 features.\n",
      "Fitting estimator with 13 features.\n",
      "Fitting estimator with 12 features.\n",
      "Fitting estimator with 11 features.\n",
      "Fitting estimator with 10 features.\n",
      "Fitting estimator with 9 features.\n",
      "Fitting estimator with 8 features.\n",
      "Fitting estimator with 7 features.\n",
      "Fitting estimator with 6 features.\n",
      "Fitting estimator with 5 features.\n",
      "Fitting estimator with 4 features.\n",
      "Fitting estimator with 3 features.\n",
      "Fitting estimator with 2 features.\n",
      "Fitting estimator with 17 features.\n",
      "Fitting estimator with 16 features.\n",
      "Fitting estimator with 15 features.\n",
      "Fitting estimator with 14 features.\n",
      "Fitting estimator with 13 features.\n",
      "Fitting estimator with 12 features.\n",
      "Fitting estimator with 11 features.\n",
      "Fitting estimator with 10 features.\n",
      "Fitting estimator with 9 features.\n",
      "Fitting estimator with 8 features.\n",
      "Fitting estimator with 7 features.\n",
      "Fitting estimator with 6 features.\n",
      "Fitting estimator with 5 features.\n",
      "Fitting estimator with 4 features.\n",
      "Fitting estimator with 3 features.\n",
      "Fitting estimator with 2 features.\n",
      "Fitting estimator with 17 features.\n",
      "Fitting estimator with 16 features.\n",
      "Fitting estimator with 15 features.\n",
      "Fitting estimator with 14 features.\n",
      "Fitting estimator with 13 features.\n",
      "Fitting estimator with 12 features.\n",
      "Fitting estimator with 11 features.\n",
      "Fitting estimator with 10 features.\n",
      "Fitting estimator with 9 features.\n",
      "Fitting estimator with 8 features.\n",
      "Fitting estimator with 7 features.\n",
      "Fitting estimator with 6 features.\n",
      "Fitting estimator with 5 features.\n",
      "Fitting estimator with 4 features.\n",
      "Fitting estimator with 3 features.\n",
      "Fitting estimator with 2 features.\n",
      "Fitting estimator with 17 features.\n",
      "Fitting estimator with 16 features.\n",
      "Fitting estimator with 15 features.\n",
      "Fitting estimator with 14 features.\n",
      "Fitting estimator with 13 features.\n",
      "Fitting estimator with 12 features.\n",
      "Fitting estimator with 11 features.\n",
      "Fitting estimator with 10 features.\n",
      "Fitting estimator with 9 features.\n",
      "Fitting estimator with 8 features.\n",
      "Fitting estimator with 7 features.\n",
      "Fitting estimator with 6 features.\n",
      "Fitting estimator with 5 features.\n",
      "Fitting estimator with 4 features.\n",
      "Fitting estimator with 3 features.\n",
      "Fitting estimator with 2 features.\n",
      "Fitting estimator with 17 features.\n",
      "Fitting estimator with 16 features.\n",
      "Fitting estimator with 15 features.\n",
      "Fitting estimator with 14 features.\n",
      "Fitting estimator with 13 features.\n",
      "Fitting estimator with 12 features.\n",
      "Fitting estimator with 11 features.\n",
      "Fitting estimator with 10 features.\n",
      "Fitting estimator with 9 features.\n",
      "Fitting estimator with 8 features.\n",
      "Fitting estimator with 7 features.\n",
      "Fitting estimator with 6 features.\n",
      "Fitting estimator with 5 features.\n",
      "Fitting estimator with 4 features.\n",
      "Fitting estimator with 3 features.\n",
      "Fitting estimator with 2 features.\n",
      "Fitting estimator with 17 features.\n",
      "Fitting estimator with 16 features.\n"
     ]
    },
    {
     "data": {
      "text/html": [
       "<style>#sk-container-id-16 {color: black;background-color: white;}#sk-container-id-16 pre{padding: 0;}#sk-container-id-16 div.sk-toggleable {background-color: white;}#sk-container-id-16 label.sk-toggleable__label {cursor: pointer;display: block;width: 100%;margin-bottom: 0;padding: 0.3em;box-sizing: border-box;text-align: center;}#sk-container-id-16 label.sk-toggleable__label-arrow:before {content: \"▸\";float: left;margin-right: 0.25em;color: #696969;}#sk-container-id-16 label.sk-toggleable__label-arrow:hover:before {color: black;}#sk-container-id-16 div.sk-estimator:hover label.sk-toggleable__label-arrow:before {color: black;}#sk-container-id-16 div.sk-toggleable__content {max-height: 0;max-width: 0;overflow: hidden;text-align: left;background-color: #f0f8ff;}#sk-container-id-16 div.sk-toggleable__content pre {margin: 0.2em;color: black;border-radius: 0.25em;background-color: #f0f8ff;}#sk-container-id-16 input.sk-toggleable__control:checked~div.sk-toggleable__content {max-height: 200px;max-width: 100%;overflow: auto;}#sk-container-id-16 input.sk-toggleable__control:checked~label.sk-toggleable__label-arrow:before {content: \"▾\";}#sk-container-id-16 div.sk-estimator input.sk-toggleable__control:checked~label.sk-toggleable__label {background-color: #d4ebff;}#sk-container-id-16 div.sk-label input.sk-toggleable__control:checked~label.sk-toggleable__label {background-color: #d4ebff;}#sk-container-id-16 input.sk-hidden--visually {border: 0;clip: rect(1px 1px 1px 1px);clip: rect(1px, 1px, 1px, 1px);height: 1px;margin: -1px;overflow: hidden;padding: 0;position: absolute;width: 1px;}#sk-container-id-16 div.sk-estimator {font-family: monospace;background-color: #f0f8ff;border: 1px dotted black;border-radius: 0.25em;box-sizing: border-box;margin-bottom: 0.5em;}#sk-container-id-16 div.sk-estimator:hover {background-color: #d4ebff;}#sk-container-id-16 div.sk-parallel-item::after {content: \"\";width: 100%;border-bottom: 1px solid gray;flex-grow: 1;}#sk-container-id-16 div.sk-label:hover label.sk-toggleable__label {background-color: #d4ebff;}#sk-container-id-16 div.sk-serial::before {content: \"\";position: absolute;border-left: 1px solid gray;box-sizing: border-box;top: 0;bottom: 0;left: 50%;z-index: 0;}#sk-container-id-16 div.sk-serial {display: flex;flex-direction: column;align-items: center;background-color: white;padding-right: 0.2em;padding-left: 0.2em;position: relative;}#sk-container-id-16 div.sk-item {position: relative;z-index: 1;}#sk-container-id-16 div.sk-parallel {display: flex;align-items: stretch;justify-content: center;background-color: white;position: relative;}#sk-container-id-16 div.sk-item::before, #sk-container-id-16 div.sk-parallel-item::before {content: \"\";position: absolute;border-left: 1px solid gray;box-sizing: border-box;top: 0;bottom: 0;left: 50%;z-index: -1;}#sk-container-id-16 div.sk-parallel-item {display: flex;flex-direction: column;z-index: 1;position: relative;background-color: white;}#sk-container-id-16 div.sk-parallel-item:first-child::after {align-self: flex-end;width: 50%;}#sk-container-id-16 div.sk-parallel-item:last-child::after {align-self: flex-start;width: 50%;}#sk-container-id-16 div.sk-parallel-item:only-child::after {width: 0;}#sk-container-id-16 div.sk-dashed-wrapped {border: 1px dashed gray;margin: 0 0.4em 0.5em 0.4em;box-sizing: border-box;padding-bottom: 0.4em;background-color: white;}#sk-container-id-16 div.sk-label label {font-family: monospace;font-weight: bold;display: inline-block;line-height: 1.2em;}#sk-container-id-16 div.sk-label-container {text-align: center;}#sk-container-id-16 div.sk-container {/* jupyter's `normalize.less` sets `[hidden] { display: none; }` but bootstrap.min.css set `[hidden] { display: none !important; }` so we also need the `!important` here to be able to override the default hidden behavior on the sphinx rendered scikit-learn.org. See: https://github.com/scikit-learn/scikit-learn/issues/21755 */display: inline-block !important;position: relative;}#sk-container-id-16 div.sk-text-repr-fallback {display: none;}</style><div id=\"sk-container-id-16\" class=\"sk-top-container\"><div class=\"sk-text-repr-fallback\"><pre>RFECV(estimator=RandomForestClassifier(max_depth=100, max_features=10),\n",
       "      scoring=&#x27;f1&#x27;, verbose=2)</pre><b>In a Jupyter environment, please rerun this cell to show the HTML representation or trust the notebook. <br />On GitHub, the HTML representation is unable to render, please try loading this page with nbviewer.org.</b></div><div class=\"sk-container\" hidden><div class=\"sk-item sk-dashed-wrapped\"><div class=\"sk-label-container\"><div class=\"sk-label sk-toggleable\"><input class=\"sk-toggleable__control sk-hidden--visually\" id=\"sk-estimator-id-40\" type=\"checkbox\" ><label for=\"sk-estimator-id-40\" class=\"sk-toggleable__label sk-toggleable__label-arrow\">RFECV</label><div class=\"sk-toggleable__content\"><pre>RFECV(estimator=RandomForestClassifier(max_depth=100, max_features=10),\n",
       "      scoring=&#x27;f1&#x27;, verbose=2)</pre></div></div></div><div class=\"sk-parallel\"><div class=\"sk-parallel-item\"><div class=\"sk-item\"><div class=\"sk-label-container\"><div class=\"sk-label sk-toggleable\"><input class=\"sk-toggleable__control sk-hidden--visually\" id=\"sk-estimator-id-41\" type=\"checkbox\" ><label for=\"sk-estimator-id-41\" class=\"sk-toggleable__label sk-toggleable__label-arrow\">estimator: RandomForestClassifier</label><div class=\"sk-toggleable__content\"><pre>RandomForestClassifier(max_depth=100, max_features=10)</pre></div></div></div><div class=\"sk-serial\"><div class=\"sk-item\"><div class=\"sk-estimator sk-toggleable\"><input class=\"sk-toggleable__control sk-hidden--visually\" id=\"sk-estimator-id-42\" type=\"checkbox\" ><label for=\"sk-estimator-id-42\" class=\"sk-toggleable__label sk-toggleable__label-arrow\">RandomForestClassifier</label><div class=\"sk-toggleable__content\"><pre>RandomForestClassifier(max_depth=100, max_features=10)</pre></div></div></div></div></div></div></div></div></div></div>"
      ],
      "text/plain": [
       "RFECV(estimator=RandomForestClassifier(max_depth=100, max_features=10),\n",
       "      scoring='f1', verbose=2)"
      ]
     },
     "execution_count": 492,
     "metadata": {},
     "output_type": "execute_result"
    }
   ],
   "source": [
    "rfe = RFECV(rf(max_depth=100, max_features=10), scoring = 'f1', verbose = 2)\n",
    "rfe.fit(x,y)"
   ]
  },
  {
   "cell_type": "code",
   "execution_count": 493,
   "id": "eeef41e3-8c6e-4114-b3c7-6b010b1cf0ad",
   "metadata": {},
   "outputs": [
    {
     "data": {
      "text/html": [
       "<div>\n",
       "<style scoped>\n",
       "    .dataframe tbody tr th:only-of-type {\n",
       "        vertical-align: middle;\n",
       "    }\n",
       "\n",
       "    .dataframe tbody tr th {\n",
       "        vertical-align: top;\n",
       "    }\n",
       "\n",
       "    .dataframe thead th {\n",
       "        text-align: right;\n",
       "    }\n",
       "</style>\n",
       "<table border=\"1\" class=\"dataframe\">\n",
       "  <thead>\n",
       "    <tr style=\"text-align: right;\">\n",
       "      <th></th>\n",
       "      <th>feat_rank</th>\n",
       "    </tr>\n",
       "  </thead>\n",
       "  <tbody>\n",
       "    <tr>\n",
       "      <th>days_since_last_transaction</th>\n",
       "      <td>1</td>\n",
       "    </tr>\n",
       "    <tr>\n",
       "      <th>vintage</th>\n",
       "      <td>1</td>\n",
       "    </tr>\n",
       "    <tr>\n",
       "      <th>dependents</th>\n",
       "      <td>1</td>\n",
       "    </tr>\n",
       "    <tr>\n",
       "      <th>current_balance</th>\n",
       "      <td>1</td>\n",
       "    </tr>\n",
       "    <tr>\n",
       "      <th>previous_month_end_balance</th>\n",
       "      <td>1</td>\n",
       "    </tr>\n",
       "    <tr>\n",
       "      <th>average_monthly_balance_prevQ</th>\n",
       "      <td>1</td>\n",
       "    </tr>\n",
       "    <tr>\n",
       "      <th>average_monthly_balance_prevQ2</th>\n",
       "      <td>1</td>\n",
       "    </tr>\n",
       "    <tr>\n",
       "      <th>current_month_credit</th>\n",
       "      <td>1</td>\n",
       "    </tr>\n",
       "    <tr>\n",
       "      <th>current_month_debit</th>\n",
       "      <td>1</td>\n",
       "    </tr>\n",
       "    <tr>\n",
       "      <th>previous_month_credit</th>\n",
       "      <td>1</td>\n",
       "    </tr>\n",
       "    <tr>\n",
       "      <th>previous_month_debit</th>\n",
       "      <td>1</td>\n",
       "    </tr>\n",
       "    <tr>\n",
       "      <th>credit_ratio</th>\n",
       "      <td>1</td>\n",
       "    </tr>\n",
       "    <tr>\n",
       "      <th>age_group_(0, 18]</th>\n",
       "      <td>3</td>\n",
       "    </tr>\n",
       "    <tr>\n",
       "      <th>age_group_(18, 25]</th>\n",
       "      <td>2</td>\n",
       "    </tr>\n",
       "    <tr>\n",
       "      <th>age_group_(25, 30]</th>\n",
       "      <td>1</td>\n",
       "    </tr>\n",
       "    <tr>\n",
       "      <th>age_group_(30, 60]</th>\n",
       "      <td>1</td>\n",
       "    </tr>\n",
       "    <tr>\n",
       "      <th>age_group_(60, 100]</th>\n",
       "      <td>1</td>\n",
       "    </tr>\n",
       "  </tbody>\n",
       "</table>\n",
       "</div>"
      ],
      "text/plain": [
       "                                feat_rank\n",
       "days_since_last_transaction             1\n",
       "vintage                                 1\n",
       "dependents                              1\n",
       "current_balance                         1\n",
       "previous_month_end_balance              1\n",
       "average_monthly_balance_prevQ           1\n",
       "average_monthly_balance_prevQ2          1\n",
       "current_month_credit                    1\n",
       "current_month_debit                     1\n",
       "previous_month_credit                   1\n",
       "previous_month_debit                    1\n",
       "credit_ratio                            1\n",
       "age_group_(0, 18]                       3\n",
       "age_group_(18, 25]                      2\n",
       "age_group_(25, 30]                      1\n",
       "age_group_(30, 60]                      1\n",
       "age_group_(60, 100]                     1"
      ]
     },
     "execution_count": 493,
     "metadata": {},
     "output_type": "execute_result"
    }
   ],
   "source": [
    "feature_ranks = pd.DataFrame(rfe.ranking_, columns = ['feat_rank'], index = rfe.feature_names_in_)\n",
    "feature_ranks"
   ]
  },
  {
   "cell_type": "markdown",
   "id": "53b235bc-8efb-49bd-b436-a644f30c1b58",
   "metadata": {},
   "source": [
    "# Curves"
   ]
  },
  {
   "cell_type": "code",
   "execution_count": 494,
   "id": "c166ceff-8ed8-42a8-a25b-e9e53d1689f1",
   "metadata": {},
   "outputs": [],
   "source": [
    "p,r,t = metrics.precision_recall_curve(yval, probs_rf[:,1], )"
   ]
  },
  {
   "cell_type": "code",
   "execution_count": 495,
   "id": "01cf14c7-4caa-445a-9285-1be38ad3e0d0",
   "metadata": {},
   "outputs": [
    {
     "data": {
      "text/plain": [
       "<sklearn.metrics._plot.precision_recall_curve.PrecisionRecallDisplay at 0x16b7bc670>"
      ]
     },
     "execution_count": 495,
     "metadata": {},
     "output_type": "execute_result"
    },
    {
     "data": {
      "image/png": "[encoded data removed]",
      "text/plain": [
       "<Figure size 432x288 with 1 Axes>"
      ]
     },
     "metadata": {
      "needs_background": "light"
     },
     "output_type": "display_data"
    }
   ],
   "source": [
    "disp = metrics.PrecisionRecallDisplay(p,r)\n",
    "disp.plot()"
   ]
  },
  {
   "cell_type": "code",
   "execution_count": 496,
   "id": "9bae3f9b-7691-4417-93d4-db78a9de4ee7",
   "metadata": {},
   "outputs": [],
   "source": [
    "fpr, fnr, thresholds = metrics.det_curve(yval, probs_rf[:,1])"
   ]
  },
  {
   "cell_type": "code",
   "execution_count": 497,
   "id": "53aec016-e9b8-4b73-bdb5-03adfa4b4174",
   "metadata": {},
   "outputs": [
    {
     "data": {
      "text/plain": [
       "<AxesSubplot:>"
      ]
     },
     "execution_count": 497,
     "metadata": {},
     "output_type": "execute_result"
    },
    {
     "data": {
      "image/png": "[encoded data removed]",
      "text/plain": [
       "<Figure size 432x288 with 1 Axes>"
      ]
     },
     "metadata": {
      "needs_background": "light"
     },
     "output_type": "display_data"
    }
   ],
   "source": [
    "sns.lineplot(x = thresholds, y = fpr, label = 'fpr')\n",
    "sns.lineplot(x = thresholds, y = fnr, label = 'fnr')"
   ]
  },
  {
   "cell_type": "code",
   "execution_count": null,
   "id": "3fcf6bf6-e3e2-42fa-b6b4-c8ed2546bb5e",
   "metadata": {},
   "outputs": [],
   "source": []
  },
  {
   "cell_type": "markdown",
   "id": "b6f67d7f-6dc2-42c2-b719-35e396f2e5fb",
   "metadata": {},
   "source": [
    "# Upsampling"
   ]
  },
  {
   "cell_type": "code",
   "execution_count": 623,
   "id": "5aec43a4-0300-43a2-86c8-c5e1cf7e455d",
   "metadata": {},
   "outputs": [],
   "source": [
    "from sklearn.utils import resample"
   ]
  },
  {
   "cell_type": "code",
   "execution_count": 691,
   "id": "6cdf540b-8114-47cb-8250-640524c5f9f6",
   "metadata": {},
   "outputs": [],
   "source": [
    "def upsample_df(df, target):\n",
    "    target = 'churn'\n",
    "    df_1 = df[df[target] == 1] \n",
    "    df_2 = df[df[target] == 0] \n",
    "    ratio = df_2.shape[0]/df_1.shape[0]\n",
    "    ratio\n",
    "    df_1_ups = resample(df_1,random_state=42,n_samples=int(ratio*df_1.shape[0]),replace=True)\n",
    "    df_upsampled = pd.concat([df_1_ups,df_2])\n",
    "    print(df_upsampled.shape)\n",
    "    return df_upsampled"
   ]
  },
  {
   "cell_type": "code",
   "execution_count": 707,
   "id": "985ece7a-a6e1-4c4d-9a19-c6354933f98e",
   "metadata": {},
   "outputs": [
    {
     "name": "stdout",
     "output_type": "stream",
     "text": [
      "input data has 28382 rows\n",
      "Subsetting Columns\n",
      "One Hot Encoding\n",
      "output data has 22705 + 5677 rows\n"
     ]
    }
   ],
   "source": [
    "select_cols = ['days_since_last_transaction', 'vintage', 'dependents',\n",
    "       'current_balance', 'previous_month_end_balance',\n",
    "       'average_monthly_balance_prevQ', 'average_monthly_balance_prevQ2',\n",
    "       'current_month_credit', 'current_month_debit', 'previous_month_credit',\n",
    "       'previous_month_debit', 'credit_ratio', 'age_group']\n",
    "       \n",
    "       \n",
    "        \n",
    "x,y,xval,yval = dp.split_data(df, target = 'churn', \n",
    "                              include_cols=select_cols, \n",
    "                              validation_split=0.2, ohe = True)\n",
    "x,xval = scale_x(x,xval)"
   ]
  },
  {
   "cell_type": "code",
   "execution_count": 708,
   "id": "887e9c99-4d2f-449b-8af4-7a6bcffb2988",
   "metadata": {},
   "outputs": [],
   "source": [
    "#df_upsampled = pd.concat([x,y], axis = 1)\n",
    "#df_upsampled = upsample_df(df_upsampled, 'churn')\n",
    "#x,y = dp.split_data(df_upsampled, 'churn')"
   ]
  },
  {
   "cell_type": "code",
   "execution_count": 709,
   "id": "3b1bfe81-3cf2-4f92-a703-ef89b9fd75ca",
   "metadata": {},
   "outputs": [],
   "source": [
    "model = dtree(max_depth=10, max_features=100, min_samples_leaf=100)\n",
    "model.fit(x,y)\n",
    "preds = model.predict(xval)\n",
    "probs = model.predict_proba(xval)"
   ]
  },
  {
   "cell_type": "code",
   "execution_count": 710,
   "id": "bed53142-b7b4-4bf3-b36a-3addce3e4268",
   "metadata": {},
   "outputs": [
    {
     "name": "stdout",
     "output_type": "stream",
     "text": [
      "Accuracy: 0.8576713052668663, Precision: 0.6689750692520776, Recall: 0.4591254752851711, F1: 0.5445321307779031\n"
     ]
    },
    {
     "data": {
      "image/png": "[encoded data removed]",
      "text/plain": [
       "<Figure size 432x288 with 1 Axes>"
      ]
     },
     "metadata": {
      "needs_background": "light"
     },
     "output_type": "display_data"
    }
   ],
   "source": [
    "report,errors, preds_df = evaluate_predictions(yval, preds, probs[:,1])"
   ]
  },
  {
   "cell_type": "code",
   "execution_count": null,
   "id": "4bce8ac4-bd2d-4824-b585-4edfe127e0df",
   "metadata": {},
   "outputs": [],
   "source": []
  }
 ],
 "metadata": {
  "kernelspec": {
   "display_name": "Python 3 (ipykernel)",
   "language": "python",
   "name": "python3"
  },
  "language_info": {
   "codemirror_mode": {
    "name": "ipython",
    "version": 3
   },
   "file_extension": ".py",
   "mimetype": "text/x-python",
   "name": "python",
   "nbconvert_exporter": "python",
   "pygments_lexer": "ipython3",
   "version": "3.9.13"
  }
 },
 "nbformat": 4,
 "nbformat_minor": 5
}
